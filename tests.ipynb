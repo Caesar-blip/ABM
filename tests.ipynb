{
 "cells": [
  {
   "cell_type": "code",
   "execution_count": 1,
   "id": "9d7d4169",
   "metadata": {},
   "outputs": [],
   "source": [
    "from model import *\n",
    "import csv"
   ]
  },
  {
   "cell_type": "code",
   "execution_count": 2,
   "id": "27157f9b",
   "metadata": {
    "scrolled": false
   },
   "outputs": [],
   "source": [
    "model = HousingMarket(rental_cost = 2000, initial_houses=200, initial_households=20000)\n",
    "model.run_model(1)\n",
    "data = model.datacollector.get_agent_vars_dataframe()"
   ]
  },
  {
   "cell_type": "code",
   "execution_count": 3,
   "id": "80c98e7e",
   "metadata": {},
   "outputs": [
    {
     "data": {
      "text/plain": [
       "Step  AgentID\n",
       "0     1          844412.0\n",
       "      2          350197.0\n",
       "      3          758784.0\n",
       "      4          990836.0\n",
       "      5          292781.0\n",
       "                   ...   \n",
       "      20196           NaN\n",
       "      20197           NaN\n",
       "      20198           NaN\n",
       "      20199           NaN\n",
       "      20200           NaN\n",
       "Name: Price, Length: 20200, dtype: float64"
      ]
     },
     "execution_count": 3,
     "metadata": {},
     "output_type": "execute_result"
    }
   ],
   "source": [
    "data[\"Price\"]"
   ]
  },
  {
   "cell_type": "code",
   "execution_count": null,
   "id": "ba544f8b",
   "metadata": {
    "scrolled": true
   },
   "outputs": [],
   "source": [
    "data[\"Income\"].iloc[0:10]"
   ]
  },
  {
   "cell_type": "code",
   "execution_count": null,
   "id": "9149be20",
   "metadata": {},
   "outputs": [],
   "source": [
    "incomes = []\n",
    "for i in range(19000):\n",
    "    incomes.append(data[\"Income\"].iloc[i])"
   ]
  },
  {
   "cell_type": "code",
   "execution_count": null,
   "id": "faa619ef",
   "metadata": {},
   "outputs": [],
   "source": [
    "import matplotlib.pyplot as plt\n",
    "import seaborn as sns\n",
    "incomes.sort()\n",
    "plt.plot(incomes)"
   ]
  },
  {
   "cell_type": "code",
   "execution_count": null,
   "id": "762666a6",
   "metadata": {},
   "outputs": [],
   "source": [
    "sns.histplot(incomes)"
   ]
  },
  {
   "cell_type": "code",
   "execution_count": null,
   "id": "709e027c",
   "metadata": {},
   "outputs": [],
   "source": [
    "data[\"Mean Income\"].plot()"
   ]
  },
  {
   "cell_type": "code",
   "execution_count": null,
   "id": "bd342f94",
   "metadata": {},
   "outputs": [],
   "source": [
    "model = HousingMarket(rental_cost = 10000)\n",
    "model.run_model(1000)\n",
    "data = model.datacollector.get_model_vars_dataframe()"
   ]
  },
  {
   "cell_type": "code",
   "execution_count": null,
   "id": "e099b4c6",
   "metadata": {},
   "outputs": [],
   "source": [
    "data[\"Gini\"].plot()"
   ]
  },
  {
   "cell_type": "code",
   "execution_count": null,
   "id": "eab8baaf",
   "metadata": {},
   "outputs": [],
   "source": [
    "model = HousingMarket(rental_cost = 10)\n",
    "model.run_model(1000)\n",
    "data = model.datacollector.get_model_vars_dataframe()"
   ]
  },
  {
   "cell_type": "code",
   "execution_count": null,
   "id": "204cfed4",
   "metadata": {},
   "outputs": [],
   "source": [
    "data[\"Gini\"].plot()"
   ]
  },
  {
   "cell_type": "code",
   "execution_count": null,
   "id": "f76fb9f2",
   "metadata": {},
   "outputs": [],
   "source": [
    "model = HousingMarket(rental_cost = 1000)\n",
    "model.run_model()\n",
    "data = model.datacollector.get_model_vars_dataframe()"
   ]
  },
  {
   "cell_type": "code",
   "execution_count": null,
   "id": "698efa79",
   "metadata": {},
   "outputs": [],
   "source": [
    "data[\"Gini\"].plot()"
   ]
  },
  {
   "cell_type": "code",
   "execution_count": null,
   "id": "be855a76",
   "metadata": {},
   "outputs": [],
   "source": []
  }
 ],
 "metadata": {
  "kernelspec": {
   "display_name": "Python 3",
   "language": "python",
   "name": "python3"
  },
  "language_info": {
   "codemirror_mode": {
    "name": "ipython",
    "version": 3
   },
   "file_extension": ".py",
   "mimetype": "text/x-python",
   "name": "python",
   "nbconvert_exporter": "python",
   "pygments_lexer": "ipython3",
   "version": "3.9.2"
  }
 },
 "nbformat": 4,
 "nbformat_minor": 5
}
