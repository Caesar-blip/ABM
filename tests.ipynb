{
 "cells": [
  {
   "cell_type": "code",
   "execution_count": 1,
   "id": "9d7d4169",
   "metadata": {},
   "outputs": [],
   "source": [
    "from model import *\n",
    "import csv\n",
    "import matplotlib.pyplot as plt"
   ]
  },
  {
   "cell_type": "code",
   "execution_count": 2,
   "id": "27157f9b",
   "metadata": {
    "scrolled": false
   },
   "outputs": [],
   "source": [
    "model = HousingMarket(rental_cost = 2000, initial_houses=20, initial_households=200)\n",
    "model.run_model(1)\n",
    "agent_data = model.datacollector.get_agent_vars_dataframe()\n",
    "model_data = model.datacollector.get_model_vars_dataframe()"
   ]
  },
  {
   "cell_type": "code",
   "execution_count": null,
   "id": "80c98e7e",
   "metadata": {},
   "outputs": [],
   "source": [
    "agent_data[\"Price\"]"
   ]
  },
  {
   "cell_type": "code",
   "execution_count": null,
   "id": "ba544f8b",
   "metadata": {
    "scrolled": true
   },
   "outputs": [],
   "source": [
    "agent_data[\"Income\"].iloc[0:10]"
   ]
  },
  {
   "cell_type": "code",
   "execution_count": 3,
   "id": "57108e07",
   "metadata": {},
   "outputs": [
    {
     "data": {
      "text/plain": [
       "Step  AgentID\n",
       "0     1           0\n",
       "      2           0\n",
       "      3           0\n",
       "      4           0\n",
       "      5           0\n",
       "                 ..\n",
       "      216        24\n",
       "      217        94\n",
       "      218        48\n",
       "      219        44\n",
       "      220        31\n",
       "Name: Age, Length: 220, dtype: int64"
      ]
     },
     "execution_count": 3,
     "metadata": {},
     "output_type": "execute_result"
    }
   ],
   "source": [
    "agent_data[\"Age\"]"
   ]
  },
  {
   "cell_type": "code",
   "execution_count": 4,
   "id": "9149be20",
   "metadata": {},
   "outputs": [],
   "source": [
    "ages = []\n",
    "for i in range(200):\n",
    "    ages.append(agent_data[\"Age\"].iloc[i])"
   ]
  },
  {
   "cell_type": "code",
   "execution_count": null,
   "id": "d01825f2",
   "metadata": {},
   "outputs": [],
   "source": [
    "model.age_distr"
   ]
  },
  {
   "cell_type": "code",
   "execution_count": null,
   "id": "37b9e3a9",
   "metadata": {},
   "outputs": [],
   "source": [
    "model.ages"
   ]
  },
  {
   "cell_type": "code",
   "execution_count": 5,
   "id": "d1e9b662",
   "metadata": {
    "scrolled": true
   },
   "outputs": [
    {
     "data": {
      "text/plain": [
       "(array([20.,  0., 33., 22., 26., 30., 22., 25., 15.,  7.]),\n",
       " array([ 0. ,  9.4, 18.8, 28.2, 37.6, 47. , 56.4, 65.8, 75.2, 84.6, 94. ]),\n",
       " <BarContainer object of 10 artists>)"
      ]
     },
     "execution_count": 5,
     "metadata": {},
     "output_type": "execute_result"
    },
    {
     "data": {
      "image/png": "[encoded data removed]",
      "text/plain": [
       "<Figure size 432x288 with 1 Axes>"
      ]
     },
     "metadata": {
      "needs_background": "light"
     },
     "output_type": "display_data"
    }
   ],
   "source": [
    "plt.hist(ages)"
   ]
  },
  {
   "cell_type": "code",
   "execution_count": null,
   "id": "1fa567af",
   "metadata": {
    "scrolled": false
   },
   "outputs": [],
   "source": [
    "sns.histplot(incomes, kde=True)"
   ]
  },
  {
   "cell_type": "code",
   "execution_count": null,
   "id": "8d4a311c",
   "metadata": {},
   "outputs": [],
   "source": [
    "print(len(agent_data[\"Income\"]))"
   ]
  },
  {
   "cell_type": "code",
   "execution_count": null,
   "id": "277cbf55",
   "metadata": {
    "scrolled": false
   },
   "outputs": [],
   "source": [
    "from collections import Counter\n",
    "\n",
    "ages = []\n",
    "for i in range(len(agent_data[\"Age\"])):\n",
    "    ages.append(agent_data[\"Age\"].iloc[i])\n",
    "    \n",
    "min(ages)\n",
    "max(ages)\n",
    "\n",
    "sns.histplot(ages)"
   ]
  },
  {
   "cell_type": "code",
   "execution_count": null,
   "id": "bd342f94",
   "metadata": {},
   "outputs": [],
   "source": [
    "model = HousingMarket(rental_cost = 500)\n",
    "model.run_model(10000)\n",
    "data = model.datacollector.get_model_vars_dataframe()"
   ]
  },
  {
   "cell_type": "code",
   "execution_count": null,
   "id": "e099b4c6",
   "metadata": {},
   "outputs": [],
   "source": [
    "data[\"Gini\"].plot()"
   ]
  },
  {
   "cell_type": "code",
   "execution_count": null,
   "id": "eab8baaf",
   "metadata": {},
   "outputs": [],
   "source": [
    "model = HousingMarket(rental_cost = 10)\n",
    "model.run_model(1000)\n",
    "data = model.datacollector.get_model_vars_dataframe()"
   ]
  },
  {
   "cell_type": "code",
   "execution_count": null,
   "id": "204cfed4",
   "metadata": {},
   "outputs": [],
   "source": [
    "data[\"Gini\"].plot()"
   ]
  },
  {
   "cell_type": "code",
   "execution_count": null,
   "id": "f76fb9f2",
   "metadata": {},
   "outputs": [],
   "source": [
    "model = HousingMarket(rental_cost = 1000)\n",
    "model.run_model()\n",
    "data = model.datacollector.get_model_vars_dataframe()"
   ]
  },
  {
   "cell_type": "code",
   "execution_count": null,
   "id": "698efa79",
   "metadata": {},
   "outputs": [],
   "source": [
    "data[\"Gini\"].plot()"
   ]
  },
  {
   "cell_type": "code",
   "execution_count": null,
   "id": "be855a76",
   "metadata": {},
   "outputs": [],
   "source": []
  }
 ],
 "metadata": {
  "kernelspec": {
   "display_name": "Python 3 (ipykernel)",
   "language": "python",
   "name": "python3"
  },
  "language_info": {
   "codemirror_mode": {
    "name": "ipython",
    "version": 3
   },
   "file_extension": ".py",
   "mimetype": "text/x-python",
   "name": "python",
   "nbconvert_exporter": "python",
   "pygments_lexer": "ipython3",
   "version": "3.9.2"
  }
 },
 "nbformat": 4,
 "nbformat_minor": 5
}
