{
 "cells": [
  {
   "cell_type": "code",
   "execution_count": 1,
   "id": "9d7d4169",
   "metadata": {},
   "outputs": [],
   "source": [
    "from model import *\n",
    "import csv"
   ]
  },
  {
   "cell_type": "code",
   "execution_count": 2,
   "id": "27157f9b",
   "metadata": {
    "scrolled": false
   },
   "outputs": [],
   "source": [
    "model = HousingMarket(rental_cost = 2000, initial_households=2000)\n",
    "model.run_model(1)\n",
    "data = model.datacollector.get_agent_vars_dataframe()"
   ]
  },
  {
   "cell_type": "code",
   "execution_count": 3,
   "id": "0894673a",
   "metadata": {},
   "outputs": [
    {
     "data": {
      "text/plain": [
       "Step  AgentID\n",
       "1     21         1748.366030\n",
       "      22         2347.880977\n",
       "      23          541.442435\n",
       "      24         2065.824859\n",
       "      25         1544.193513\n",
       "                    ...     \n",
       "      2016       1799.759400\n",
       "      2017       2200.732936\n",
       "      2018       2370.625415\n",
       "      2019       2504.139114\n",
       "      2020       1376.694588\n",
       "Name: Income, Length: 2000, dtype: float64"
      ]
     },
     "execution_count": 3,
     "metadata": {},
     "output_type": "execute_result"
    }
   ],
   "source": [
    "data[\"Income\"]"
   ]
  },
  {
   "cell_type": "code",
   "execution_count": null,
   "id": "709e027c",
   "metadata": {},
   "outputs": [],
   "source": [
    "data[\"Mean Income\"].plot()"
   ]
  },
  {
   "cell_type": "code",
   "execution_count": null,
   "id": "bd342f94",
   "metadata": {},
   "outputs": [],
   "source": [
    "model = HousingMarket(rental_cost = 10000)\n",
    "model.run_model(1000)\n",
    "data = model.datacollector.get_model_vars_dataframe()"
   ]
  },
  {
   "cell_type": "code",
   "execution_count": null,
   "id": "e099b4c6",
   "metadata": {},
   "outputs": [],
   "source": [
    "data[\"Gini\"].plot()"
   ]
  },
  {
   "cell_type": "code",
   "execution_count": null,
   "id": "eab8baaf",
   "metadata": {},
   "outputs": [],
   "source": [
    "model = HousingMarket(rental_cost = 10)\n",
    "model.run_model(1000)\n",
    "data = model.datacollector.get_model_vars_dataframe()"
   ]
  },
  {
   "cell_type": "code",
   "execution_count": null,
   "id": "204cfed4",
   "metadata": {},
   "outputs": [],
   "source": [
    "data[\"Gini\"].plot()"
   ]
  },
  {
   "cell_type": "code",
   "execution_count": null,
   "id": "f76fb9f2",
   "metadata": {},
   "outputs": [],
   "source": [
    "model = HousingMarket(rental_cost = 1000)\n",
    "model.run_model()\n",
    "data = model.datacollector.get_model_vars_dataframe()"
   ]
  },
  {
   "cell_type": "code",
   "execution_count": null,
   "id": "698efa79",
   "metadata": {},
   "outputs": [],
   "source": [
    "data[\"Gini\"].plot()"
   ]
  },
  {
   "cell_type": "code",
   "execution_count": null,
   "id": "be855a76",
   "metadata": {},
   "outputs": [],
   "source": []
  }
 ],
 "metadata": {
  "kernelspec": {
   "display_name": "Python 3",
   "language": "python",
   "name": "python3"
  },
  "language_info": {
   "codemirror_mode": {
    "name": "ipython",
    "version": 3
   },
   "file_extension": ".py",
   "mimetype": "text/x-python",
   "name": "python",
   "nbconvert_exporter": "python",
   "pygments_lexer": "ipython3",
   "version": "3.9.2"
  }
 },
 "nbformat": 4,
 "nbformat_minor": 5
}
