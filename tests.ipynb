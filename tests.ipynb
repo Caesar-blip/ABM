{
 "cells": [
  {
   "cell_type": "code",
   "execution_count": 1,
   "id": "9d7d4169",
   "metadata": {},
   "outputs": [],
   "source": [
    "from model import *\n",
    "import csv\n",
    "import matplotlib.pyplot as plt"
   ]
  },
  {
   "cell_type": "code",
   "execution_count": 2,
   "id": "27157f9b",
   "metadata": {
    "scrolled": false
   },
   "outputs": [],
   "source": [
    "model = HousingMarket(rental_cost = 2000, initial_houses=20, initial_households=20000)\n",
    "model.run_model(1)\n",
    "agent_data = model.datacollector.get_agent_vars_dataframe()\n",
    "model_data = model.datacollector.get_model_vars_dataframe()"
   ]
  },
  {
   "cell_type": "code",
   "execution_count": null,
   "id": "80c98e7e",
   "metadata": {},
   "outputs": [],
   "source": [
    "agent_data[\"Price\"]"
   ]
  },
  {
   "cell_type": "code",
   "execution_count": null,
   "id": "ba544f8b",
   "metadata": {
    "scrolled": true
   },
   "outputs": [],
   "source": [
    "agent_data[\"Income\"].iloc[0:10]"
   ]
  },
  {
   "cell_type": "code",
   "execution_count": 3,
   "id": "57108e07",
   "metadata": {},
   "outputs": [
    {
     "data": {
      "text/plain": [
       "Step  AgentID\n",
       "0     1           NaN\n",
       "      2           NaN\n",
       "      3           NaN\n",
       "      4           NaN\n",
       "      5           NaN\n",
       "                 ... \n",
       "      20016      61.0\n",
       "      20017      65.0\n",
       "      20018      70.0\n",
       "      20019      80.0\n",
       "      20020      65.0\n",
       "Name: Age, Length: 20019, dtype: float64"
      ]
     },
     "execution_count": 3,
     "metadata": {},
     "output_type": "execute_result"
    }
   ],
   "source": [
    "agent_data[\"Age\"]"
   ]
  },
  {
   "cell_type": "code",
   "execution_count": null,
   "id": "9149be20",
   "metadata": {},
   "outputs": [],
   "source": [
    "ages = []\n",
    "for i in range(200):\n",
    "    ages.append(agent_data[\"Age\"].iloc[i])"
   ]
  },
  {
   "cell_type": "code",
   "execution_count": null,
   "id": "ce40e712",
   "metadata": {},
   "outputs": [],
   "source": [
    "model.age_distr"
   ]
  },
  {
   "cell_type": "code",
   "execution_count": null,
   "id": "952e9374",
   "metadata": {},
   "outputs": [],
   "source": [
    "model.ages[0]"
   ]
  },
  {
   "cell_type": "code",
   "execution_count": null,
   "id": "3e27c5e4",
   "metadata": {},
   "outputs": [],
   "source": [
    "ages"
   ]
  },
  {
   "cell_type": "code",
   "execution_count": null,
   "id": "d5fbe374",
   "metadata": {
    "scrolled": true
   },
   "outputs": [],
   "source": [
    "plt.hist(ages)"
   ]
  },
  {
   "cell_type": "code",
   "execution_count": null,
   "id": "1fa567af",
   "metadata": {
    "scrolled": false
   },
   "outputs": [],
   "source": [
    "sns.histplot(incomes, kde=True)"
   ]
  },
  {
   "cell_type": "code",
   "execution_count": null,
   "id": "8d4a311c",
   "metadata": {},
   "outputs": [],
   "source": [
    "print(len(agent_data[\"Income\"]))"
   ]
  },
  {
   "cell_type": "code",
   "execution_count": null,
   "id": "277cbf55",
   "metadata": {
    "scrolled": false
   },
   "outputs": [],
   "source": [
    "from collections import Counter\n",
    "\n",
    "ages = []\n",
    "for i in range(len(agent_data[\"Age\"])):\n",
    "    ages.append(agent_data[\"Age\"].iloc[i])\n",
    "    \n",
    "min(ages)\n",
    "max(ages)\n",
    "\n",
    "sns.histplot(ages)"
   ]
  },
  {
   "cell_type": "code",
   "execution_count": null,
   "id": "bd342f94",
   "metadata": {},
   "outputs": [],
   "source": [
    "model = HousingMarket(rental_cost = 500)\n",
    "model.run_model(10000)\n",
    "data = model.datacollector.get_model_vars_dataframe()"
   ]
  },
  {
   "cell_type": "code",
   "execution_count": null,
   "id": "e099b4c6",
   "metadata": {},
   "outputs": [],
   "source": [
    "data[\"Gini\"].plot()"
   ]
  },
  {
   "cell_type": "code",
   "execution_count": null,
   "id": "eab8baaf",
   "metadata": {},
   "outputs": [],
   "source": [
    "model = HousingMarket(rental_cost = 10)\n",
    "model.run_model(1000)\n",
    "data = model.datacollector.get_model_vars_dataframe()"
   ]
  },
  {
   "cell_type": "code",
   "execution_count": null,
   "id": "204cfed4",
   "metadata": {},
   "outputs": [],
   "source": [
    "data[\"Gini\"].plot()"
   ]
  },
  {
   "cell_type": "code",
   "execution_count": null,
   "id": "f76fb9f2",
   "metadata": {},
   "outputs": [],
   "source": [
    "model = HousingMarket(rental_cost = 1000)\n",
    "model.run_model()\n",
    "data = model.datacollector.get_model_vars_dataframe()"
   ]
  },
  {
   "cell_type": "code",
   "execution_count": null,
   "id": "698efa79",
   "metadata": {},
   "outputs": [],
   "source": [
    "data[\"Gini\"].plot()"
   ]
  },
  {
   "cell_type": "code",
   "execution_count": null,
   "id": "be855a76",
   "metadata": {},
   "outputs": [],
   "source": []
  }
 ],
 "metadata": {
  "kernelspec": {
   "display_name": "Python 3 (ipykernel)",
   "language": "python",
   "name": "python3"
  },
  "language_info": {
   "codemirror_mode": {
    "name": "ipython",
    "version": 3
   },
   "file_extension": ".py",
   "mimetype": "text/x-python",
   "name": "python",
   "nbconvert_exporter": "python",
   "pygments_lexer": "ipython3",
   "version": "3.9.2"
  }
 },
 "nbformat": 4,
 "nbformat_minor": 5
}
