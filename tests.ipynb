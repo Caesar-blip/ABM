{
 "cells": [
  {
   "cell_type": "code",
   "execution_count": 11,
   "id": "9d7d4169",
   "metadata": {},
   "outputs": [],
   "source": [
    "from model import *\n",
    "import csv\n",
    "import matplotlib.pyplot as plt\n",
    "import seaborn as sns"
   ]
  },
  {
   "cell_type": "code",
   "execution_count": 2,
   "id": "da61457e",
   "metadata": {},
   "outputs": [
    {
     "ename": "TypeError",
     "evalue": "Random.random() takes no arguments (1 given)",
     "output_type": "error",
     "traceback": [
      "\u001b[1;31m---------------------------------------------------------------------------\u001b[0m",
      "\u001b[1;31mTypeError\u001b[0m                                 Traceback (most recent call last)",
      "\u001b[1;32m~\\AppData\\Local\\Temp/ipykernel_15668/2050862307.py\u001b[0m in \u001b[0;36m<module>\u001b[1;34m\u001b[0m\n\u001b[1;32m----> 1\u001b[1;33m \u001b[0mrandom\u001b[0m\u001b[1;33m.\u001b[0m\u001b[0mrandom\u001b[0m\u001b[1;33m(\u001b[0m\u001b[1;36m4\u001b[0m\u001b[1;33m)\u001b[0m\u001b[1;33m\u001b[0m\u001b[1;33m\u001b[0m\u001b[0m\n\u001b[0m",
      "\u001b[1;31mTypeError\u001b[0m: Random.random() takes no arguments (1 given)"
     ]
    }
   ],
   "source": [
    "random.random(4)"
   ]
  },
  {
   "cell_type": "code",
<<<<<<< HEAD
   "execution_count": 16,
=======
   "execution_count": 23,
>>>>>>> Bye
   "id": "27157f9b",
   "metadata": {
    "scrolled": false
   },
   "outputs": [],
   "source": [
    "model = HousingMarket(rental_cost = 2000, initial_houses=20, initial_households=20000)\n",
    "model.run_model(3)\n",
    "agent_data = model.datacollector.get_agent_vars_dataframe()\n",
    "model_data = model.datacollector.get_model_vars_dataframe()"
   ]
  },
  {
   "cell_type": "code",
   "execution_count": 28,
   "id": "0d4cff24",
   "metadata": {},
   "outputs": [
    {
     "data": {
      "text/plain": [
       "MultiIndex([(0,     1),\n",
       "            (0,     2),\n",
       "            (0,     3),\n",
       "            (0,     4),\n",
       "            (0,     5),\n",
       "            (0,     6),\n",
       "            (0,     7),\n",
       "            (0,     8),\n",
       "            (0,     9),\n",
       "            (0,    10),\n",
       "            ...\n",
       "            (0, 20011),\n",
       "            (0, 20012),\n",
       "            (0, 20013),\n",
       "            (0, 20014),\n",
       "            (0, 20015),\n",
       "            (0, 20016),\n",
       "            (0, 20017),\n",
       "            (0, 20018),\n",
       "            (0, 20019),\n",
       "            (0, 20020)],\n",
       "           names=['Step', 'AgentID'], length=20019)"
      ]
     },
     "execution_count": 28,
     "metadata": {},
     "output_type": "execute_result"
    }
   ],
   "source": [
    "agent_data.index"
   ]
  },
  {
   "cell_type": "code",
   "execution_count": 22,
   "id": "e2a5e36c",
   "metadata": {
    "scrolled": true
   },
   "outputs": [
    {
     "ename": "KeyError",
     "evalue": "'Step'",
     "output_type": "error",
     "traceback": [
      "\u001b[1;31m---------------------------------------------------------------------------\u001b[0m",
      "\u001b[1;31mKeyError\u001b[0m                                  Traceback (most recent call last)",
      "File \u001b[1;32m~\\.virtualenvs\\ABM-t0XFpI9W\\lib\\site-packages\\pandas\\core\\indexes\\base.py:3621\u001b[0m, in \u001b[0;36mIndex.get_loc\u001b[1;34m(self, key, method, tolerance)\u001b[0m\n\u001b[0;32m   3620\u001b[0m \u001b[38;5;28;01mtry\u001b[39;00m:\n\u001b[1;32m-> 3621\u001b[0m     \u001b[38;5;28;01mreturn\u001b[39;00m \u001b[38;5;28;43mself\u001b[39;49m\u001b[38;5;241;43m.\u001b[39;49m\u001b[43m_engine\u001b[49m\u001b[38;5;241;43m.\u001b[39;49m\u001b[43mget_loc\u001b[49m\u001b[43m(\u001b[49m\u001b[43mcasted_key\u001b[49m\u001b[43m)\u001b[49m\n\u001b[0;32m   3622\u001b[0m \u001b[38;5;28;01mexcept\u001b[39;00m \u001b[38;5;167;01mKeyError\u001b[39;00m \u001b[38;5;28;01mas\u001b[39;00m err:\n",
      "File \u001b[1;32m~\\.virtualenvs\\ABM-t0XFpI9W\\lib\\site-packages\\pandas\\_libs\\index.pyx:136\u001b[0m, in \u001b[0;36mpandas._libs.index.IndexEngine.get_loc\u001b[1;34m()\u001b[0m\n",
      "File \u001b[1;32m~\\.virtualenvs\\ABM-t0XFpI9W\\lib\\site-packages\\pandas\\_libs\\index.pyx:163\u001b[0m, in \u001b[0;36mpandas._libs.index.IndexEngine.get_loc\u001b[1;34m()\u001b[0m\n",
      "File \u001b[1;32mpandas\\_libs\\hashtable_class_helper.pxi:5198\u001b[0m, in \u001b[0;36mpandas._libs.hashtable.PyObjectHashTable.get_item\u001b[1;34m()\u001b[0m\n",
      "File \u001b[1;32mpandas\\_libs\\hashtable_class_helper.pxi:5206\u001b[0m, in \u001b[0;36mpandas._libs.hashtable.PyObjectHashTable.get_item\u001b[1;34m()\u001b[0m\n",
      "\u001b[1;31mKeyError\u001b[0m: 'Step'",
      "\nThe above exception was the direct cause of the following exception:\n",
      "\u001b[1;31mKeyError\u001b[0m                                  Traceback (most recent call last)",
      "Input \u001b[1;32mIn [22]\u001b[0m, in \u001b[0;36m<module>\u001b[1;34m\u001b[0m\n\u001b[1;32m----> 1\u001b[0m \u001b[43magent_data\u001b[49m\u001b[43m[\u001b[49m\u001b[38;5;124;43m\"\u001b[39;49m\u001b[38;5;124;43mStep\u001b[39;49m\u001b[38;5;124;43m\"\u001b[39;49m\u001b[43m]\u001b[49m\n",
      "File \u001b[1;32m~\\.virtualenvs\\ABM-t0XFpI9W\\lib\\site-packages\\pandas\\core\\frame.py:3506\u001b[0m, in \u001b[0;36mDataFrame.__getitem__\u001b[1;34m(self, key)\u001b[0m\n\u001b[0;32m   3504\u001b[0m \u001b[38;5;28;01mif\u001b[39;00m \u001b[38;5;28mself\u001b[39m\u001b[38;5;241m.\u001b[39mcolumns\u001b[38;5;241m.\u001b[39mnlevels \u001b[38;5;241m>\u001b[39m \u001b[38;5;241m1\u001b[39m:\n\u001b[0;32m   3505\u001b[0m     \u001b[38;5;28;01mreturn\u001b[39;00m \u001b[38;5;28mself\u001b[39m\u001b[38;5;241m.\u001b[39m_getitem_multilevel(key)\n\u001b[1;32m-> 3506\u001b[0m indexer \u001b[38;5;241m=\u001b[39m \u001b[38;5;28;43mself\u001b[39;49m\u001b[38;5;241;43m.\u001b[39;49m\u001b[43mcolumns\u001b[49m\u001b[38;5;241;43m.\u001b[39;49m\u001b[43mget_loc\u001b[49m\u001b[43m(\u001b[49m\u001b[43mkey\u001b[49m\u001b[43m)\u001b[49m\n\u001b[0;32m   3507\u001b[0m \u001b[38;5;28;01mif\u001b[39;00m is_integer(indexer):\n\u001b[0;32m   3508\u001b[0m     indexer \u001b[38;5;241m=\u001b[39m [indexer]\n",
      "File \u001b[1;32m~\\.virtualenvs\\ABM-t0XFpI9W\\lib\\site-packages\\pandas\\core\\indexes\\base.py:3623\u001b[0m, in \u001b[0;36mIndex.get_loc\u001b[1;34m(self, key, method, tolerance)\u001b[0m\n\u001b[0;32m   3621\u001b[0m     \u001b[38;5;28;01mreturn\u001b[39;00m \u001b[38;5;28mself\u001b[39m\u001b[38;5;241m.\u001b[39m_engine\u001b[38;5;241m.\u001b[39mget_loc(casted_key)\n\u001b[0;32m   3622\u001b[0m \u001b[38;5;28;01mexcept\u001b[39;00m \u001b[38;5;167;01mKeyError\u001b[39;00m \u001b[38;5;28;01mas\u001b[39;00m err:\n\u001b[1;32m-> 3623\u001b[0m     \u001b[38;5;28;01mraise\u001b[39;00m \u001b[38;5;167;01mKeyError\u001b[39;00m(key) \u001b[38;5;28;01mfrom\u001b[39;00m \u001b[38;5;21;01merr\u001b[39;00m\n\u001b[0;32m   3624\u001b[0m \u001b[38;5;28;01mexcept\u001b[39;00m \u001b[38;5;167;01mTypeError\u001b[39;00m:\n\u001b[0;32m   3625\u001b[0m     \u001b[38;5;66;03m# If we have a listlike key, _check_indexing_error will raise\u001b[39;00m\n\u001b[0;32m   3626\u001b[0m     \u001b[38;5;66;03m#  InvalidIndexError. Otherwise we fall through and re-raise\u001b[39;00m\n\u001b[0;32m   3627\u001b[0m     \u001b[38;5;66;03m#  the TypeError.\u001b[39;00m\n\u001b[0;32m   3628\u001b[0m     \u001b[38;5;28mself\u001b[39m\u001b[38;5;241m.\u001b[39m_check_indexing_error(key)\n",
      "\u001b[1;31mKeyError\u001b[0m: 'Step'"
     ]
    }
   ],
   "source": [
    "agent_data[\"Step\"]"
   ]
  },
  {
   "cell_type": "code",
   "execution_count": 5,
   "id": "80c98e7e",
   "metadata": {},
   "outputs": [
    {
     "data": {
      "text/plain": [
       "Step  AgentID\n",
<<<<<<< HEAD
       "0     1         -213188.233488\n",
       "      2         -965263.105002\n",
       "      3         -270780.016211\n",
       "      4         -370151.015652\n",
       "      5          700254.289381\n",
       "                     ...      \n",
       "      20016                NaN\n",
       "      20017                NaN\n",
       "      20018                NaN\n",
       "      20019                NaN\n",
       "      20020                NaN\n",
       "Name: Price, Length: 20017, dtype: float64"
=======
       "0     1         -7.040502e+05\n",
       "      2          8.520718e+04\n",
       "      3          2.770093e+06\n",
       "      4         -8.949597e+05\n",
       "      5         -5.896605e+05\n",
       "                     ...     \n",
       "      20016               NaN\n",
       "      20017               NaN\n",
       "      20018               NaN\n",
       "      20019               NaN\n",
       "      20020               NaN\n",
       "Name: Price, Length: 20020, dtype: float64"
>>>>>>> Bye
      ]
     },
     "execution_count": 5,
     "metadata": {},
     "output_type": "execute_result"
    }
   ],
   "source": [
    "agent_data[\"Price\"]"
   ]
  },
  {
   "cell_type": "code",
   "execution_count": 5,
   "id": "e445680e",
   "metadata": {},
   "outputs": [
    {
     "data": {
      "text/plain": [
       "Step  AgentID\n",
       "0     1                NaN\n",
       "      2                NaN\n",
       "      3                NaN\n",
       "      4                NaN\n",
       "      5                NaN\n",
       "                   ...    \n",
       "      20016      67.199333\n",
       "      20017      84.593643\n",
       "      20018      41.185336\n",
       "      20019      44.059360\n",
       "      20020      80.636528\n",
       "Name: Age, Length: 20020, dtype: float64"
      ]
     },
     "execution_count": 5,
     "metadata": {},
     "output_type": "execute_result"
    }
   ],
   "source": [
    "agent_data['Age']"
   ]
  },
  {
   "cell_type": "code",
   "execution_count": 4,
   "id": "ba544f8b",
   "metadata": {
    "scrolled": true
   },
   "outputs": [
    {
     "data": {
      "text/plain": [
       "Step  AgentID\n",
       "0     1         NaN\n",
       "      2         NaN\n",
       "      3         NaN\n",
       "      4         NaN\n",
       "      5         NaN\n",
       "      6         NaN\n",
       "      7         NaN\n",
       "      8         NaN\n",
       "      9         NaN\n",
       "      10        NaN\n",
       "Name: Income, dtype: float64"
      ]
     },
     "execution_count": 4,
     "metadata": {},
     "output_type": "execute_result"
    }
   ],
   "source": [
    "agent_data[\"Income\"].iloc[0:10]"
   ]
  },
  {
   "cell_type": "code",
   "execution_count": 5,
   "id": "57108e07",
   "metadata": {},
   "outputs": [
    {
     "data": {
      "text/plain": [
       "Step  AgentID\n",
       "0     1           NaN\n",
       "      2           NaN\n",
       "      3           NaN\n",
       "      4           NaN\n",
       "      5           NaN\n",
       "                 ... \n",
       "      20016      51.0\n",
       "      20017      64.0\n",
       "      20018      52.0\n",
       "      20019      42.0\n",
       "      20020      36.0\n",
       "Name: Age, Length: 20019, dtype: float64"
      ]
     },
     "execution_count": 5,
     "metadata": {},
     "output_type": "execute_result"
    }
   ],
   "source": [
    "agent_data[\"Age\"]"
   ]
  },
  {
   "cell_type": "code",
   "execution_count": 12,
   "id": "9149be20",
   "metadata": {},
   "outputs": [
    {
     "data": {
      "text/plain": [
       "<AxesSubplot:ylabel='Count'>"
      ]
     },
     "execution_count": 12,
     "metadata": {},
     "output_type": "execute_result"
    },
    {
     "data": {
      "image/png": "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\n",
      "text/plain": [
       "<Figure size 432x288 with 1 Axes>"
      ]
     },
     "metadata": {
      "needs_background": "light"
     },
     "output_type": "display_data"
    }
   ],
   "source": [
    "ages = []\n",
    "for i in range(10):\n",
    "    ages.append(agent_data[\"Age\"].iloc[i])\n",
    "    \n",
    "sns.histplot(ages)"
   ]
  },
  {
   "cell_type": "code",
   "execution_count": 13,
   "id": "049be452",
   "metadata": {},
   "outputs": [
    {
     "data": {
      "text/html": [
       "<div>\n",
       "<style scoped>\n",
       "    .dataframe tbody tr th:only-of-type {\n",
       "        vertical-align: middle;\n",
       "    }\n",
       "\n",
       "    .dataframe tbody tr th {\n",
       "        vertical-align: top;\n",
       "    }\n",
       "\n",
       "    .dataframe thead th {\n",
       "        text-align: right;\n",
       "    }\n",
       "</style>\n",
       "<table border=\"1\" class=\"dataframe\">\n",
       "  <thead>\n",
       "    <tr style=\"text-align: right;\">\n",
       "      <th></th>\n",
       "      <th></th>\n",
       "      <th>Income</th>\n",
       "      <th>Price</th>\n",
       "      <th>Age</th>\n",
       "    </tr>\n",
       "    <tr>\n",
       "      <th>Step</th>\n",
       "      <th>AgentID</th>\n",
       "      <th></th>\n",
       "      <th></th>\n",
       "      <th></th>\n",
       "    </tr>\n",
       "  </thead>\n",
       "  <tbody>\n",
       "    <tr>\n",
       "      <th rowspan=\"11\" valign=\"top\">0</th>\n",
       "      <th>1</th>\n",
       "      <td>NaN</td>\n",
       "      <td>-213188.233488</td>\n",
       "      <td>NaN</td>\n",
       "    </tr>\n",
       "    <tr>\n",
       "      <th>2</th>\n",
       "      <td>NaN</td>\n",
       "      <td>-965263.105002</td>\n",
       "      <td>NaN</td>\n",
       "    </tr>\n",
       "    <tr>\n",
       "      <th>3</th>\n",
       "      <td>NaN</td>\n",
       "      <td>-270780.016211</td>\n",
       "      <td>NaN</td>\n",
       "    </tr>\n",
       "    <tr>\n",
       "      <th>4</th>\n",
       "      <td>NaN</td>\n",
       "      <td>-370151.015652</td>\n",
       "      <td>NaN</td>\n",
       "    </tr>\n",
       "    <tr>\n",
       "      <th>5</th>\n",
       "      <td>NaN</td>\n",
       "      <td>700254.289381</td>\n",
       "      <td>NaN</td>\n",
       "    </tr>\n",
       "    <tr>\n",
       "      <th>...</th>\n",
       "      <td>...</td>\n",
       "      <td>...</td>\n",
       "      <td>...</td>\n",
       "    </tr>\n",
       "    <tr>\n",
       "      <th>20016</th>\n",
       "      <td>6433.442734</td>\n",
       "      <td>NaN</td>\n",
       "      <td>62.0</td>\n",
       "    </tr>\n",
       "    <tr>\n",
       "      <th>20017</th>\n",
       "      <td>4679.258230</td>\n",
       "      <td>NaN</td>\n",
       "      <td>53.0</td>\n",
       "    </tr>\n",
       "    <tr>\n",
       "      <th>20018</th>\n",
       "      <td>5767.688058</td>\n",
       "      <td>NaN</td>\n",
       "      <td>61.0</td>\n",
       "    </tr>\n",
       "    <tr>\n",
       "      <th>20019</th>\n",
       "      <td>4968.768151</td>\n",
       "      <td>NaN</td>\n",
       "      <td>34.0</td>\n",
       "    </tr>\n",
       "    <tr>\n",
       "      <th>20020</th>\n",
       "      <td>3661.979363</td>\n",
       "      <td>NaN</td>\n",
       "      <td>49.0</td>\n",
       "    </tr>\n",
       "  </tbody>\n",
       "</table>\n",
       "<p>20017 rows × 3 columns</p>\n",
       "</div>"
      ],
      "text/plain": [
       "                   Income          Price   Age\n",
       "Step AgentID                                  \n",
       "0    1                NaN -213188.233488   NaN\n",
       "     2                NaN -965263.105002   NaN\n",
       "     3                NaN -270780.016211   NaN\n",
       "     4                NaN -370151.015652   NaN\n",
       "     5                NaN  700254.289381   NaN\n",
       "...                   ...            ...   ...\n",
       "     20016    6433.442734            NaN  62.0\n",
       "     20017    4679.258230            NaN  53.0\n",
       "     20018    5767.688058            NaN  61.0\n",
       "     20019    4968.768151            NaN  34.0\n",
       "     20020    3661.979363            NaN  49.0\n",
       "\n",
       "[20017 rows x 3 columns]"
      ]
     },
     "execution_count": 13,
     "metadata": {},
     "output_type": "execute_result"
    }
   ],
   "source": [
    "agent_data"
   ]
  },
  {
   "cell_type": "code",
   "execution_count": 8,
   "id": "d5fbe374",
   "metadata": {
    "scrolled": true
   },
   "outputs": [
    {
     "data": {
      "text/plain": [
       "[nan, nan, nan, nan, nan, nan, nan, nan, nan, nan]"
      ]
     },
     "execution_count": 8,
     "metadata": {},
     "output_type": "execute_result"
    }
   ],
   "source": [
    "ages"
   ]
  },
  {
   "cell_type": "code",
   "execution_count": 13,
   "id": "1fa567af",
   "metadata": {
    "scrolled": false
   },
   "outputs": [
    {
     "ename": "NameError",
     "evalue": "name 'incomes' is not defined",
     "output_type": "error",
     "traceback": [
      "\u001b[1;31m---------------------------------------------------------------------------\u001b[0m",
      "\u001b[1;31mNameError\u001b[0m                                 Traceback (most recent call last)",
      "Input \u001b[1;32mIn [13]\u001b[0m, in \u001b[0;36m<module>\u001b[1;34m\u001b[0m\n\u001b[1;32m----> 1\u001b[0m sns\u001b[38;5;241m.\u001b[39mhistplot(\u001b[43mincomes\u001b[49m, kde\u001b[38;5;241m=\u001b[39m\u001b[38;5;28;01mTrue\u001b[39;00m)\n",
      "\u001b[1;31mNameError\u001b[0m: name 'incomes' is not defined"
     ]
    }
   ],
   "source": [
    "sns.histplot(incomes, kde=True)"
   ]
  },
  {
   "cell_type": "code",
   "execution_count": 14,
   "id": "8d4a311c",
   "metadata": {},
   "outputs": [
    {
     "name": "stdout",
     "output_type": "stream",
     "text": [
      "20019\n"
     ]
    }
   ],
   "source": [
    "print(len(agent_data[\"Income\"]))"
   ]
  },
  {
   "cell_type": "code",
   "execution_count": 15,
   "id": "277cbf55",
   "metadata": {
    "scrolled": false
   },
   "outputs": [
    {
     "data": {
      "text/plain": [
       "<AxesSubplot:ylabel='Count'>"
      ]
     },
     "execution_count": 15,
     "metadata": {},
     "output_type": "execute_result"
    },
    {
     "data": {
      "image/png": "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\n",
      "text/plain": [
       "<Figure size 432x288 with 1 Axes>"
      ]
     },
     "metadata": {
      "needs_background": "light"
     },
     "output_type": "display_data"
    }
   ],
   "source": [
    "from collections import Counter\n",
    "\n",
    "ages = []\n",
    "for i in range(len(agent_data[\"Age\"])):\n",
    "    ages.append(agent_data[\"Age\"].iloc[i])\n",
    "    \n",
    "min(ages)\n",
    "max(ages)\n",
    "\n",
    "sns.histplot(ages)"
   ]
  },
  {
   "cell_type": "code",
   "execution_count": null,
   "id": "bd342f94",
   "metadata": {},
   "outputs": [],
   "source": [
    "model = HousingMarket(rental_cost = 500)\n",
    "model.run_model(10000)\n",
    "data = model.datacollector.get_model_vars_dataframe()"
   ]
  },
  {
   "cell_type": "code",
   "execution_count": null,
   "id": "e099b4c6",
   "metadata": {},
   "outputs": [],
   "source": [
    "data[\"Gini\"].plot()"
   ]
  },
  {
   "cell_type": "code",
   "execution_count": null,
   "id": "eab8baaf",
   "metadata": {},
   "outputs": [],
   "source": [
    "model = HousingMarket(rental_cost = 10)\n",
    "model.run_model(1000)\n",
    "data = model.datacollector.get_model_vars_dataframe()"
   ]
  },
  {
   "cell_type": "code",
   "execution_count": null,
   "id": "204cfed4",
   "metadata": {},
   "outputs": [],
   "source": [
    "data[\"Gini\"].plot()"
   ]
  },
  {
   "cell_type": "code",
   "execution_count": 14,
   "id": "f76fb9f2",
   "metadata": {},
   "outputs": [],
   "source": [
    "model = HousingMarket(rental_cost = 1000)\n",
    "model.run_model()\n",
    "data = model.datacollector.get_model_vars_dataframe()"
   ]
  },
  {
   "cell_type": "code",
   "execution_count": null,
   "id": "698efa79",
   "metadata": {},
   "outputs": [],
   "source": [
    "data[\"Gini\"].plot()"
   ]
  },
  {
   "cell_type": "code",
   "execution_count": 23,
   "id": "a5650b51",
   "metadata": {},
   "outputs": [],
   "source": [
    "model = HousingMarket(rental_cost = 2000, initial_houses=20, initial_households=1000)\n",
    "model.run_model(90)\n",
    "agent_data = model.datacollector.get_agent_vars_dataframe()\n",
    "model_data = model.datacollector.get_model_vars_dataframe()"
   ]
  },
  {
   "cell_type": "code",
   "execution_count": 24,
   "id": "f28e06a7",
   "metadata": {},
   "outputs": [
    {
     "data": {
      "text/plain": [
       "<AxesSubplot:ylabel='Count'>"
      ]
     },
     "execution_count": 24,
     "metadata": {},
     "output_type": "execute_result"
    },
    {
     "data": {
      "image/png": "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\n",
      "text/plain": [
       "<Figure size 432x288 with 1 Axes>"
      ]
     },
     "metadata": {
      "needs_background": "light"
     },
     "output_type": "display_data"
    }
   ],
   "source": [
    "from collections import Counter\n",
    "\n",
    "ages = []\n",
    "for i in range(len(agent_data.xs(90, level = 'Step')[\"Age\"])):\n",
    "    ages.append(agent_data[\"Age\"].iloc[i])\n",
    "    \n",
    "min(ages)\n",
    "max(ages)\n",
    "\n",
    "sns.histplot(ages)"
   ]
  },
  {
   "cell_type": "code",
   "execution_count": 25,
   "id": "70d2a400",
   "metadata": {},
   "outputs": [
    {
     "data": {
      "text/plain": [
       "<AxesSubplot:ylabel='Count'>"
      ]
     },
     "execution_count": 25,
     "metadata": {},
     "output_type": "execute_result"
    },
    {
     "data": {
      "image/png": "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\n",
      "text/plain": [
       "<Figure size 432x288 with 1 Axes>"
      ]
     },
     "metadata": {
      "needs_background": "light"
     },
     "output_type": "display_data"
    }
   ],
   "source": [
    "from collections import Counter\n",
    "\n",
    "ages = []\n",
    "for i in range(len(agent_data.xs(1, level = 'Step')[\"Age\"])):\n",
    "    ages.append(agent_data[\"Age\"].iloc[i])\n",
    "    \n",
    "min(ages)\n",
    "max(ages)\n",
    "\n",
    "sns.histplot(ages)"
   ]
  },
  {
   "cell_type": "code",
   "execution_count": null,
   "id": "1e217b00",
   "metadata": {},
   "outputs": [],
   "source": []
  }
 ],
 "metadata": {
  "kernelspec": {
   "display_name": "Python 3 (ipykernel)",
   "language": "python",
   "name": "python3"
  },
  "language_info": {
   "codemirror_mode": {
    "name": "ipython",
    "version": 3
   },
   "file_extension": ".py",
   "mimetype": "text/x-python",
   "name": "python",
   "nbconvert_exporter": "python",
   "pygments_lexer": "ipython3",
   "version": "3.9.7"
  }
 },
 "nbformat": 4,
 "nbformat_minor": 5
}
