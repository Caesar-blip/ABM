{
 "cells": [
  {
   "cell_type": "code",
   "execution_count": 1,
   "id": "eb6ad63e",
   "metadata": {},
   "outputs": [],
   "source": [
    "'''\n",
    "This notebook implements a batch run for OFAT analysis\n",
    "Packages\n",
    "'''\n",
    "from model import *\n",
    "import csv\n",
    "from mesa.batchrunner import BatchRunner\n",
    "import pandas as pd\n",
    "import numpy as np\n",
    "import tqdm as tqdm\n",
    "import seaborn as sns\n",
    "import matplotlib.pyplot as plt\n",
    "import time\n",
    "from SALib.sample import saltelli\n",
    "from SALib.analyze import sobol\n",
    "from itertools import combinations\n",
    "from joblib import Parallel, delayed, cpu_count"
   ]
  },
  {
   "cell_type": "code",
   "execution_count": 2,
   "id": "e3faafb6",
   "metadata": {},
   "outputs": [],
   "source": [
    "'''\n",
    "Initial Conditions as given in notebook\n",
    "'''\n",
    "initial_houses = 20\n",
    "initial_households = 30\n",
    "rental_cost = 1000\n",
    "savings_lower = 0\n",
    "savings_upper = 50_000\n",
    "price_lower = 10_000\n",
    "price_upper = 100_000\n",
    "columns = ('Variable', 'Parameter', 'Gini')\n",
    "\n",
    "'''\n",
    "This defines model run\n",
    "'''\n",
    "samples = 10\n",
    "max_steps = 2\n",
    "ofat_size = 5"
   ]
  },
  {
   "cell_type": "code",
   "execution_count": 3,
   "id": "98fb2e43",
   "metadata": {},
   "outputs": [],
   "source": [
    "'''\n",
    "Defaults\n",
    "'''\n",
    "height = 20\n",
    "width = 20\n",
    "initial_houses = 100\n",
    "initial_households = 150\n",
    "savings_lower = 0\n",
    "savings_upper = 0\n",
    "price_lower = 100_000\n",
    "price_upper = 1_000_000\n",
    "payoff_perc_freehold = 0.0025\n",
    "inflation = 0.02\n",
    "house_price = 400_000\n",
    "chi_parameter = 6.5\n",
    "maximum_age = 100\n",
    "minimum_age = 20\n",
    "age_utility_scaling = 0.01\n",
    "maximum_moving_age = 65\n",
    "bank_income_multiplire = 8\n",
    "fraction_good_houses = 0.05\n",
    "price_shock_range = 6"
   ]
  },
  {
   "cell_type": "code",
   "execution_count": 4,
   "id": "13376a88",
   "metadata": {},
   "outputs": [],
   "source": [
    "model = HousingMarket()\n",
    "model.run_model(100)"
   ]
  },
  {
   "cell_type": "code",
   "execution_count": 5,
   "id": "4cb48588",
   "metadata": {},
   "outputs": [],
   "source": [
    "def collect_samples(samples, columns, parameter, values):\n",
    "    df_experiment = pd.DataFrame(columns=columns)\n",
    "    parameter_name = parameter\n",
    "    kwargs = {f'{parameter}': values}\n",
    "    for k in range(int(samples)):\n",
    "        '''\n",
    "        Repeat trial with certain parameter k times to apply clt\n",
    "        '''            \n",
    "        print(f\"value:{values}\")\n",
    "        model = HousingMarket(**kwargs)\n",
    "        model.run_model(max_steps)\n",
    "        \n",
    "        print(f\"model parameter:{model.payoff_perc_freehold}\")\n",
    "        data = model.datacollector.get_model_vars_dataframe()\n",
    "        dic = {'Variable': parameter_name, 'Parameter': parameter, 'Gini': data['Gini'].iloc[-1]}\n",
    "        df_experiment = pd.concat([df_experiment, pd.DataFrame(pd.Series(dic)).T])\n",
    "    return df_experiment"
   ]
  },
  {
   "cell_type": "code",
   "execution_count": 6,
   "id": "67ca8d8b",
   "metadata": {},
   "outputs": [],
   "source": [
    "def run_batch_parallel(problem, i, ofat_size, samples, columns):\n",
    "    parameter = problem['names'][i]\n",
    "    variable_values = np.linspace(*problem['bounds'][i], ofat_size)\n",
    "    results = Parallel(n_jobs = cpu_count())(delayed(collect_samples)(samples, columns, parameter, value)\n",
    "                       for value in variable_values)\n",
    "    final = pd.concat(results)\n",
    "    return final"
   ]
  },
  {
   "cell_type": "code",
   "execution_count": 7,
   "id": "19010528",
   "metadata": {},
   "outputs": [],
   "source": [
    "def run_batch_parallel_plotter(result, i):\n",
    "    '''\n",
    "    This plots the result from running a batch runneri in parallel\n",
    "    '''\n",
    "    \n",
    "    fig = plt.plot( figsize = (20,40))\n",
    "    y = []\n",
    "    err = []\n",
    "    x = np.linspace(*problem['bounds'][i], ofat_size)\n",
    "\n",
    "    for j in range(len(x)):\n",
    "        series = result['Gini'][int(j*samples):int((j+1)*samples)]\n",
    "        y.append(series.mean())\n",
    "        err.append(1.96 * (series.std()/np.sqrt(samples)))\n",
    "\n",
    "    plt.plot(x, y , c='k')\n",
    "    plt.fill_between(x, np.array(y) - np.array(err), np.array(y) + np.array(err)) \n",
    "    plt.ylabel(\"Gini\")\n",
    "    plt.xlabel(problem['names'][i])\n",
    "    plt.show()\n",
    "    "
   ]
  },
  {
   "cell_type": "code",
   "execution_count": 8,
   "id": "ee5ba7ff",
   "metadata": {},
   "outputs": [],
   "source": [
    "'''\n",
    "This defines the bounds of for the ofat analysis\n",
    "'''\n",
    "problem = {\n",
    "    'names': ['savings_lower', 'savings_upper', 'price_lower', 'price_upper', \n",
    "              'payoff_perc_freehold', 'inflation', 'chi_parameter', 'bank_income_multiplier'],\n",
    "    'bounds': [[1, 40_000], [1, 100_000], [10_000, 90_000], [11_000, 100_000],\n",
    "              [0.001,0.25],[0.01,0.03],[5,7.5],[1,20]]    \n",
    "}\n",
    "\n",
    "\n",
    "\n",
    "columns = ('Variable', 'Parameter', 'Gini')\n",
    "\n",
    "'''\n",
    "This defines model run\n",
    "'''\n",
    "samples = 2\n",
    "max_steps = 1000\n",
    "ofat_size = 4\n",
    "\n",
    "# Inflation\n",
    "max_steps = 1000\n",
    "results_4 = run_batch_parallel(problem, 0, ofat_size, samples, columns)"
   ]
  },
  {
   "cell_type": "code",
   "execution_count": 9,
   "id": "158fce89",
   "metadata": {},
   "outputs": [
    {
     "data": {
      "image/png": "[encoded data removed]",
      "text/plain": [
       "<Figure size 432x288 with 1 Axes>"
      ]
     },
     "metadata": {
      "needs_background": "light"
     },
     "output_type": "display_data"
    }
   ],
   "source": [
    "run_batch_parallel_plotter(results_4, 4)"
   ]
  },
  {
   "cell_type": "code",
   "execution_count": null,
   "id": "8d0a0cd5",
   "metadata": {},
   "outputs": [],
   "source": [
    "'''\n",
    "This defines the bounds of for the ofat analysis\n",
    "'''\n",
    "problem = {\n",
    "    'names': ['savings_lower', 'savings_upper', 'price_lower', 'price_upper', \n",
    "              'payoff_perc_freehold', 'inflation', 'chi_parameter', 'back_income_multiplier'],\n",
    "    'bounds': [[1, 40_000], [1, 100_000], [10_000, 90_000], [11_000, 100_000],\n",
    "              [1,5],[0.01,0.03],[5,7.5],[6,9]]    \n",
    "}\n",
    "\n",
    "columns = ('Variable', 'Parameter', 'Gini')\n",
    "\n",
    "'''\n",
    "This defines model run\n",
    "'''\n",
    "samples = 30\n",
    "max_steps = 1000\n",
    "ofat_size = 10"
   ]
  },
  {
   "cell_type": "code",
   "execution_count": null,
   "id": "5c016eb0",
   "metadata": {},
   "outputs": [],
   "source": [
    "begin = time.time()\n",
    "print(f'Experiment Start now at {time.ctime(int(time.time()))}')\n",
    "results_0 = run_batch_parallel(problem, 0, ofat_size, samples, columns)\n",
    "run_batch_parallel_plotter(results_0, 0)\n",
    "print(f'Experiment Start end at {time.ctime(int(time.time()))}')\n",
    "print(f'Experiment length in seconds {time.time()-begin}')"
   ]
  },
  {
   "cell_type": "code",
   "execution_count": null,
   "id": "a7eb59a4",
   "metadata": {},
   "outputs": [],
   "source": [
    "print(f'Experiment Start now at {time.ctime(int(time.time()))}\\n')\n",
    "results_1 = run_batch_parallel(problem, 1, ofat_size, samples, columns)\n",
    "run_batch_parallel_plotter(results_1, 1)"
   ]
  },
  {
   "cell_type": "code",
   "execution_count": null,
   "id": "c906d411",
   "metadata": {},
   "outputs": [],
   "source": [
    "print(f'Experiment Start now at {time.ctime(int(time.time()))}\\n')\n",
    "results_2 = run_batch_parallel(problem, 2, ofat_size, samples, columns)\n",
    "run_batch_parallel_plotter(results_2, 2)"
   ]
  },
  {
   "cell_type": "code",
   "execution_count": null,
   "id": "0d7bc4c6",
   "metadata": {},
   "outputs": [],
   "source": [
    "print(f'Experiment Start now at {time.ctime(int(time.time()))}\\n')\n",
    "results_3 = run_batch_parallel(problem, 3, ofat_size, samples, columns)\n",
    "run_batch_parallel_plotter(results_3, 3)"
   ]
  },
  {
   "cell_type": "code",
   "execution_count": null,
   "id": "0b9fb302",
   "metadata": {},
   "outputs": [],
   "source": [
    "print(f'Experiment Start now at {time.ctime(int(time.time()))}\\n')\n",
    "results_6 = run_batch_parallel(problem, 6, ofat_size, samples, columns)\n",
    "run_batch_parallel_plotter(results_6, 6)"
   ]
  },
  {
   "cell_type": "code",
   "execution_count": null,
   "id": "82e81878",
   "metadata": {},
   "outputs": [],
   "source": [
    "print(f'Experiment Start now at {time.ctime(int(time.time()))}\\n')\n",
    "results_7 = run_batch_parallel(problem, 7, ofat_size, samples, columns)\n",
    "run_batch_parallel_plotter(results_7, 7)"
   ]
  },
  {
   "cell_type": "code",
   "execution_count": null,
   "id": "b3914afb",
   "metadata": {},
   "outputs": [],
   "source": [
    "plot0 = run_batch_parallel_plotter(results_0, 0)\n",
    "plot1 = run_batch_parallel_plotter(results_1, 1)\n",
    "plot2 = run_batch_parallel_plotter(results_2, 2)\n",
    "plot3 = run_batch_parallel_plotter(results_3, 3)\n",
    "plot6 = run_batch_parallel_plotter(results_6, 6)\n",
    "plot7 = run_batch_parallel_plotter(results_7, 7)"
   ]
  }
 ],
 "metadata": {
  "kernelspec": {
   "display_name": "Python 3 (ipykernel)",
   "language": "python",
   "name": "python3"
  },
  "language_info": {
   "codemirror_mode": {
    "name": "ipython",
    "version": 3
   },
   "file_extension": ".py",
   "mimetype": "text/x-python",
   "name": "python",
   "nbconvert_exporter": "python",
   "pygments_lexer": "ipython3",
   "version": "3.9.2"
  }
 },
 "nbformat": 4,
 "nbformat_minor": 5
}
