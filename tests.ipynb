{
 "cells": [
  {
   "cell_type": "code",
   "execution_count": 1,
   "id": "9d7d4169",
   "metadata": {},
   "outputs": [],
   "source": [
    "from model import *\n",
    "import csv\n",
    "import matplotlib.pyplot as plt"
   ]
  },
  {
   "cell_type": "code",
   "execution_count": 5,
   "id": "da61457e",
   "metadata": {},
   "outputs": [
    {
     "ename": "TypeError",
     "evalue": "Random.random() takes no arguments (1 given)",
     "output_type": "error",
     "traceback": [
      "\u001b[1;31m---------------------------------------------------------------------------\u001b[0m",
      "\u001b[1;31mTypeError\u001b[0m                                 Traceback (most recent call last)",
      "\u001b[1;32m~\\AppData\\Local\\Temp/ipykernel_22644/2050862307.py\u001b[0m in \u001b[0;36m<module>\u001b[1;34m\u001b[0m\n\u001b[1;32m----> 1\u001b[1;33m \u001b[0mrandom\u001b[0m\u001b[1;33m.\u001b[0m\u001b[0mrandom\u001b[0m\u001b[1;33m(\u001b[0m\u001b[1;36m4\u001b[0m\u001b[1;33m)\u001b[0m\u001b[1;33m\u001b[0m\u001b[1;33m\u001b[0m\u001b[0m\n\u001b[0m",
      "\u001b[1;31mTypeError\u001b[0m: Random.random() takes no arguments (1 given)"
     ]
    }
   ],
   "source": [
    "random.random(4)"
   ]
  },
  {
   "cell_type": "code",
   "execution_count": 2,
   "id": "27157f9b",
   "metadata": {
    "scrolled": false
   },
   "outputs": [],
   "source": [
    "model = HousingMarket(rental_cost = 2000, initial_houses=20, initial_households=20000)\n",
    "model.run_model(1)\n",
    "agent_data = model.datacollector.get_agent_vars_dataframe()\n",
    "model_data = model.datacollector.get_model_vars_dataframe()"
   ]
  },
  {
   "cell_type": "code",
   "execution_count": 3,
   "id": "80c98e7e",
   "metadata": {},
   "outputs": [
    {
     "data": {
      "text/plain": [
       "Step  AgentID\n",
       "0     1          134218.776768\n",
       "      2           42576.182333\n",
       "      3           48516.589858\n",
       "      4          164554.207505\n",
       "      5          183278.841716\n",
       "                     ...      \n",
       "      20016                NaN\n",
       "      20017                NaN\n",
       "      20018                NaN\n",
       "      20019                NaN\n",
       "      20020                NaN\n",
       "Name: Price, Length: 20019, dtype: float64"
      ]
     },
     "execution_count": 3,
     "metadata": {},
     "output_type": "execute_result"
    }
   ],
   "source": [
    "agent_data[\"Price\"]"
   ]
  },
  {
   "cell_type": "code",
   "execution_count": 4,
   "id": "ba544f8b",
   "metadata": {
    "scrolled": true
   },
   "outputs": [
    {
     "data": {
      "text/plain": [
       "Step  AgentID\n",
       "0     1         NaN\n",
       "      2         NaN\n",
       "      3         NaN\n",
       "      4         NaN\n",
       "      5         NaN\n",
       "      6         NaN\n",
       "      7         NaN\n",
       "      8         NaN\n",
       "      9         NaN\n",
       "      10        NaN\n",
       "Name: Income, dtype: float64"
      ]
     },
     "execution_count": 4,
     "metadata": {},
     "output_type": "execute_result"
    }
   ],
   "source": [
    "agent_data[\"Income\"].iloc[0:10]"
   ]
  },
  {
   "cell_type": "code",
   "execution_count": 5,
   "id": "57108e07",
   "metadata": {},
   "outputs": [
    {
     "data": {
      "text/plain": [
       "Step  AgentID\n",
       "0     1           NaN\n",
       "      2           NaN\n",
       "      3           NaN\n",
       "      4           NaN\n",
       "      5           NaN\n",
       "                 ... \n",
       "      20016      51.0\n",
       "      20017      64.0\n",
       "      20018      52.0\n",
       "      20019      42.0\n",
       "      20020      36.0\n",
       "Name: Age, Length: 20019, dtype: float64"
      ]
     },
     "execution_count": 5,
     "metadata": {},
     "output_type": "execute_result"
    }
   ],
   "source": [
    "agent_data[\"Age\"]"
   ]
  },
  {
   "cell_type": "code",
   "execution_count": 6,
   "id": "9149be20",
   "metadata": {},
   "outputs": [],
   "source": [
    "ages = []\n",
    "for i in range(200):\n",
    "    ages.append(agent_data[\"Age\"].iloc[i])"
   ]
  },
  {
   "cell_type": "code",
   "execution_count": 7,
   "id": "ce40e712",
   "metadata": {},
   "outputs": [
    {
     "data": {
      "text/plain": [
       "[0.016325429880293483,\n",
       " 0.03258622769093164,\n",
       " 0.04845424445624108,\n",
       " 0.06433333890885808,\n",
       " 0.08030112822210309,\n",
       " 0.09677188855641154,\n",
       " 0.11327742255816226,\n",
       " 0.12997839337439854,\n",
       " 0.14687634161063998,\n",
       " 0.16385806944228026,\n",
       " 0.18029611024983927,\n",
       " 0.19655074563839905,\n",
       " 0.212764665023941,\n",
       " 0.2289242964054592,\n",
       " 0.2447107344403978,\n",
       " 0.26023475600183227,\n",
       " 0.27532491370408224,\n",
       " 0.29044742412224367,\n",
       " 0.30583785317647916,\n",
       " 0.3214349434568429,\n",
       " 0.3365035326818186,\n",
       " 0.35156852716058185,\n",
       " 0.3664047784007693,\n",
       " 0.38135833574694866,\n",
       " 0.39641166564106356,\n",
       " 0.4121240078867265,\n",
       " 0.4283661717067943,\n",
       " 0.445910073828751,\n",
       " 0.4642809876660589,\n",
       " 0.48342418504168877,\n",
       " 0.5029522403485466,\n",
       " 0.5216538708373939,\n",
       " 0.5401362951694534,\n",
       " 0.558682104414319,\n",
       " 0.5774617188873248,\n",
       " 0.5965328012522042,\n",
       " 0.6152463897743703,\n",
       " 0.6335655832835204,\n",
       " 0.6516622693383407,\n",
       " 0.6692078587901522,\n",
       " 0.686533288376997,\n",
       " 0.7033274291460849,\n",
       " 0.719692694683385,\n",
       " 0.7356945240423963,\n",
       " 0.7512119430087468,\n",
       " 0.7664148583625975,\n",
       " 0.7812797208481488,\n",
       " 0.7960620508951505,\n",
       " 0.8101987205051073,\n",
       " 0.8242841833220795,\n",
       " 0.8383940757408626,\n",
       " 0.8527500248697748,\n",
       " 0.8676359422974272,\n",
       " 0.8827494291689739,\n",
       " 0.8933340493480891,\n",
       " 0.9041629655453113,\n",
       " 0.914200450678468,\n",
       " 0.923227371952939,\n",
       " 0.9315627814356154,\n",
       " 0.9397869738722108,\n",
       " 0.9473840665001639,\n",
       " 0.9544614615328408,\n",
       " 0.9607191810669266,\n",
       " 0.9665301250003301,\n",
       " 0.9717769872270597,\n",
       " 0.9765243998167706,\n",
       " 0.9807063368186232,\n",
       " 0.9844982071753482,\n",
       " 0.9877496184433663,\n",
       " 0.990572447928267,\n",
       " 0.9928201180191862,\n",
       " 0.9946789686218271,\n",
       " 0.9961264775507366,\n",
       " 0.9972748155601744,\n",
       " 0.9981374079268116,\n",
       " 0.9987870299209067,\n",
       " 0.9992537600311759,\n",
       " 0.999574646152257,\n",
       " 0.9997824811730669,\n",
       " 0.9999212090319979,\n",
       " 1.0]"
      ]
     },
     "execution_count": 7,
     "metadata": {},
     "output_type": "execute_result"
    }
   ],
   "source": [
    "model.age_distr"
   ]
  },
  {
   "cell_type": "code",
   "execution_count": 8,
   "id": "952e9374",
   "metadata": {},
   "outputs": [
    {
     "data": {
      "text/plain": [
       "20"
      ]
     },
     "execution_count": 8,
     "metadata": {},
     "output_type": "execute_result"
    }
   ],
   "source": [
    "model.ages[0]"
   ]
  },
  {
   "cell_type": "code",
   "execution_count": 9,
   "id": "3e27c5e4",
   "metadata": {},
   "outputs": [
    {
     "data": {
      "text/plain": [
       "[nan,\n",
       " nan,\n",
       " nan,\n",
       " nan,\n",
       " nan,\n",
       " nan,\n",
       " nan,\n",
       " nan,\n",
       " nan,\n",
       " nan,\n",
       " nan,\n",
       " nan,\n",
       " nan,\n",
       " nan,\n",
       " nan,\n",
       " nan,\n",
       " nan,\n",
       " nan,\n",
       " nan,\n",
       " nan,\n",
       " 38.0,\n",
       " 61.0,\n",
       " 23.0,\n",
       " 30.0,\n",
       " 58.0,\n",
       " 60.0,\n",
       " 60.0,\n",
       " 64.0,\n",
       " 76.0,\n",
       " 37.0,\n",
       " 71.0,\n",
       " 68.0,\n",
       " 60.0,\n",
       " 20.0,\n",
       " 61.0,\n",
       " 66.0,\n",
       " 52.0,\n",
       " 55.0,\n",
       " 83.0,\n",
       " 29.0,\n",
       " 51.0,\n",
       " 42.0,\n",
       " 60.0,\n",
       " 38.0,\n",
       " 73.0,\n",
       " 46.0,\n",
       " 54.0,\n",
       " 67.0,\n",
       " 40.0,\n",
       " 55.0,\n",
       " 33.0,\n",
       " 35.0,\n",
       " 75.0,\n",
       " 53.0,\n",
       " 85.0,\n",
       " 32.0,\n",
       " 32.0,\n",
       " 74.0,\n",
       " 34.0,\n",
       " 54.0,\n",
       " 63.0,\n",
       " 59.0,\n",
       " 48.0,\n",
       " 75.0,\n",
       " 46.0,\n",
       " 36.0,\n",
       " 55.0,\n",
       " 35.0,\n",
       " 25.0,\n",
       " 26.0,\n",
       " 20.0,\n",
       " 32.0,\n",
       " 96.0,\n",
       " 25.0,\n",
       " 50.0,\n",
       " 28.0,\n",
       " 59.0,\n",
       " 47.0,\n",
       " 25.0,\n",
       " 57.0,\n",
       " 49.0,\n",
       " 57.0,\n",
       " 33.0,\n",
       " 30.0,\n",
       " 76.0,\n",
       " 84.0,\n",
       " 49.0,\n",
       " 35.0,\n",
       " 66.0,\n",
       " 21.0,\n",
       " 62.0,\n",
       " 29.0,\n",
       " 60.0,\n",
       " 78.0,\n",
       " 31.0,\n",
       " 46.0,\n",
       " 41.0,\n",
       " 33.0,\n",
       " 41.0,\n",
       " 69.0,\n",
       " 53.0,\n",
       " 61.0,\n",
       " 47.0,\n",
       " 21.0,\n",
       " 35.0,\n",
       " 39.0,\n",
       " 66.0,\n",
       " 43.0,\n",
       " 33.0,\n",
       " 74.0,\n",
       " 34.0,\n",
       " 55.0,\n",
       " 78.0,\n",
       " 43.0,\n",
       " 23.0,\n",
       " 64.0,\n",
       " 38.0,\n",
       " 55.0,\n",
       " 73.0,\n",
       " 67.0,\n",
       " 79.0,\n",
       " 32.0,\n",
       " 80.0,\n",
       " 68.0,\n",
       " 89.0,\n",
       " 43.0,\n",
       " 70.0,\n",
       " 58.0,\n",
       " 52.0,\n",
       " 48.0,\n",
       " 28.0,\n",
       " 33.0,\n",
       " 51.0,\n",
       " 70.0,\n",
       " 68.0,\n",
       " 48.0,\n",
       " 40.0,\n",
       " 33.0,\n",
       " 62.0,\n",
       " 35.0,\n",
       " 25.0,\n",
       " 75.0,\n",
       " 34.0,\n",
       " 37.0,\n",
       " 53.0,\n",
       " 36.0,\n",
       " 89.0,\n",
       " 48.0,\n",
       " 35.0,\n",
       " 63.0,\n",
       " 51.0,\n",
       " 22.0,\n",
       " 31.0,\n",
       " 28.0,\n",
       " 52.0,\n",
       " 90.0,\n",
       " 49.0,\n",
       " 79.0,\n",
       " 63.0,\n",
       " 36.0,\n",
       " 67.0,\n",
       " 70.0,\n",
       " 42.0,\n",
       " 26.0,\n",
       " 71.0,\n",
       " 61.0,\n",
       " 72.0,\n",
       " 56.0,\n",
       " 38.0,\n",
       " 71.0,\n",
       " 55.0,\n",
       " 64.0,\n",
       " 45.0,\n",
       " 60.0,\n",
       " 30.0,\n",
       " 40.0,\n",
       " 39.0,\n",
       " 44.0,\n",
       " 25.0,\n",
       " 44.0,\n",
       " 29.0,\n",
       " 26.0,\n",
       " 29.0,\n",
       " 27.0,\n",
       " 39.0,\n",
       " 74.0,\n",
       " 80.0,\n",
       " 25.0,\n",
       " 30.0,\n",
       " 34.0,\n",
       " 65.0,\n",
       " 31.0,\n",
       " 47.0,\n",
       " 59.0,\n",
       " 65.0,\n",
       " 50.0,\n",
       " 75.0,\n",
       " 48.0,\n",
       " 39.0,\n",
       " 62.0]"
      ]
     },
     "execution_count": 9,
     "metadata": {},
     "output_type": "execute_result"
    }
   ],
   "source": [
    "ages"
   ]
  },
  {
   "cell_type": "code",
   "execution_count": 10,
   "id": "d5fbe374",
   "metadata": {
    "scrolled": true
   },
   "outputs": [
    {
     "data": {
      "text/plain": [
       "(array([17., 34., 20., 22., 20., 26., 19., 15.,  3.,  4.]),\n",
       " array([20. , 27.6, 35.2, 42.8, 50.4, 58. , 65.6, 73.2, 80.8, 88.4, 96. ]),\n",
       " <BarContainer object of 10 artists>)"
      ]
     },
     "execution_count": 10,
     "metadata": {},
     "output_type": "execute_result"
    },
    {
     "data": {
      "image/png": "[encoded data removed]",
      "text/plain": [
       "<Figure size 432x288 with 1 Axes>"
      ]
     },
     "metadata": {
      "needs_background": "light"
     },
     "output_type": "display_data"
    }
   ],
   "source": [
    "plt.hist(ages)"
   ]
  },
  {
   "cell_type": "code",
   "execution_count": 13,
   "id": "1fa567af",
   "metadata": {
    "scrolled": false
   },
   "outputs": [
    {
     "ename": "NameError",
     "evalue": "name 'incomes' is not defined",
     "output_type": "error",
     "traceback": [
      "\u001b[1;31m---------------------------------------------------------------------------\u001b[0m",
      "\u001b[1;31mNameError\u001b[0m                                 Traceback (most recent call last)",
      "Input \u001b[1;32mIn [13]\u001b[0m, in \u001b[0;36m<module>\u001b[1;34m\u001b[0m\n\u001b[1;32m----> 1\u001b[0m sns\u001b[38;5;241m.\u001b[39mhistplot(\u001b[43mincomes\u001b[49m, kde\u001b[38;5;241m=\u001b[39m\u001b[38;5;28;01mTrue\u001b[39;00m)\n",
      "\u001b[1;31mNameError\u001b[0m: name 'incomes' is not defined"
     ]
    }
   ],
   "source": [
    "sns.histplot(incomes, kde=True)"
   ]
  },
  {
   "cell_type": "code",
   "execution_count": 14,
   "id": "8d4a311c",
   "metadata": {},
   "outputs": [
    {
     "name": "stdout",
     "output_type": "stream",
     "text": [
      "20019\n"
     ]
    }
   ],
   "source": [
    "print(len(agent_data[\"Income\"]))"
   ]
  },
  {
   "cell_type": "code",
   "execution_count": 15,
   "id": "277cbf55",
   "metadata": {
    "scrolled": false
   },
   "outputs": [
    {
     "data": {
      "text/plain": [
       "<AxesSubplot:ylabel='Count'>"
      ]
     },
     "execution_count": 15,
     "metadata": {},
     "output_type": "execute_result"
    },
    {
     "data": {
      "image/png": "[encoded data removed]",
      "text/plain": [
       "<Figure size 432x288 with 1 Axes>"
      ]
     },
     "metadata": {
      "needs_background": "light"
     },
     "output_type": "display_data"
    }
   ],
   "source": [
    "from collections import Counter\n",
    "\n",
    "ages = []\n",
    "for i in range(len(agent_data[\"Age\"])):\n",
    "    ages.append(agent_data[\"Age\"].iloc[i])\n",
    "    \n",
    "min(ages)\n",
    "max(ages)\n",
    "\n",
    "sns.histplot(ages)"
   ]
  },
  {
   "cell_type": "code",
   "execution_count": null,
   "id": "bd342f94",
   "metadata": {},
   "outputs": [],
   "source": [
    "model = HousingMarket(rental_cost = 500)\n",
    "model.run_model(10000)\n",
    "data = model.datacollector.get_model_vars_dataframe()"
   ]
  },
  {
   "cell_type": "code",
   "execution_count": null,
   "id": "e099b4c6",
   "metadata": {},
   "outputs": [],
   "source": [
    "data[\"Gini\"].plot()"
   ]
  },
  {
   "cell_type": "code",
   "execution_count": null,
   "id": "eab8baaf",
   "metadata": {},
   "outputs": [],
   "source": [
    "model = HousingMarket(rental_cost = 10)\n",
    "model.run_model(1000)\n",
    "data = model.datacollector.get_model_vars_dataframe()"
   ]
  },
  {
   "cell_type": "code",
   "execution_count": null,
   "id": "204cfed4",
   "metadata": {},
   "outputs": [],
   "source": [
    "data[\"Gini\"].plot()"
   ]
  },
  {
   "cell_type": "code",
   "execution_count": null,
   "id": "f76fb9f2",
   "metadata": {},
   "outputs": [],
   "source": [
    "model = HousingMarket(rental_cost = 1000)\n",
    "model.run_model()\n",
    "data = model.datacollector.get_model_vars_dataframe()"
   ]
  },
  {
   "cell_type": "code",
   "execution_count": null,
   "id": "698efa79",
   "metadata": {},
   "outputs": [],
   "source": [
    "data[\"Gini\"].plot()"
   ]
  },
  {
   "cell_type": "code",
   "execution_count": null,
   "id": "be855a76",
   "metadata": {},
   "outputs": [],
   "source": []
  }
 ],
 "metadata": {
  "kernelspec": {
   "display_name": "Python 3 (ipykernel)",
   "language": "python",
   "name": "python3"
  },
  "language_info": {
   "codemirror_mode": {
    "name": "ipython",
    "version": 3
   },
   "file_extension": ".py",
   "mimetype": "text/x-python",
   "name": "python",
   "nbconvert_exporter": "python",
   "pygments_lexer": "ipython3",
   "version": "3.9.2"
  }
 },
 "nbformat": 4,
 "nbformat_minor": 5
}
