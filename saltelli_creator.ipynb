{
 "cells": [
  {
   "cell_type": "code",
   "execution_count": 36,
   "id": "813c7a87",
   "metadata": {},
   "outputs": [],
   "source": [
    "from SALib.sample import saltelli\n",
    "from SALib.analyze import sobol\n",
    "import csv\n",
    "import math\n",
    "import pandas as pd"
   ]
  },
  {
   "cell_type": "code",
   "execution_count": 4,
   "id": "fe0672c7",
   "metadata": {},
   "outputs": [],
   "source": [
    "'''\n",
    "This section runs Sobol\n",
    "'''\n",
    "problem = {\n",
    "    'num_vars': 8,\n",
    "    'names': ['savings_lower', 'savings_upper', 'price_lower', 'price_upper', \n",
    "              'payoff_perc_freehold', 'inflation', 'chi_parameter', 'bank_income_multiplier'],\n",
    "    'bounds': [[1, 40_000], [50_000, 100_000], [10_000, 90_000], [100_000, 1_000_000],\n",
    "              [0.001,0.0025],[0.01,0.03],[5,7.5],[6,9]]    \n",
    "}"
   ]
  },
  {
   "cell_type": "code",
   "execution_count": 54,
   "id": "d6341fec",
   "metadata": {},
   "outputs": [],
   "source": [
    "replicates = 30\n",
    "distinct_samples = 64"
   ]
  },
  {
   "cell_type": "code",
   "execution_count": 55,
   "id": "10514a14",
   "metadata": {},
   "outputs": [],
   "source": [
    "'''\n",
    "Generate Saltetlli sample\n",
    "'''\n",
    "param_values = saltelli.sample(problem, distinct_samples)\n",
    "samples = math.floor(len(param_values)/5)"
   ]
  },
  {
   "cell_type": "code",
   "execution_count": 56,
   "id": "a6f59ad4",
   "metadata": {},
   "outputs": [],
   "source": [
    "names = ['Martina', \"Nils\", \"Sebastiaan\", \"Alex\", \"Julius\"]"
   ]
  },
  {
   "cell_type": "code",
   "execution_count": 57,
   "id": "792c929e",
   "metadata": {},
   "outputs": [],
   "source": [
    "for i,name in enumerate(names):\n",
    "    values = param_values[i*samples:(i+1)*samples]\n",
    "    df = pd.DataFrame(values, columns = problem['names'])\n",
    "    df.to_csv(f\"saltelli_samples/param_values_{name}\")\n",
    "    \n",
    "values = param_values[(i+1)*samples:len(param_values)+1]\n",
    "df = pd.DataFrame(values, columns = problem['names'])\n",
    "df.to_csv(f\"saltelli_samples/param_values_extra\")\n",
    "    "
   ]
  }
 ],
 "metadata": {
  "kernelspec": {
   "display_name": "Python 3 (ipykernel)",
   "language": "python",
   "name": "python3"
  },
  "language_info": {
   "codemirror_mode": {
    "name": "ipython",
    "version": 3
   },
   "file_extension": ".py",
   "mimetype": "text/x-python",
   "name": "python",
   "nbconvert_exporter": "python",
   "pygments_lexer": "ipython3",
   "version": "3.9.2"
  }
 },
 "nbformat": 4,
 "nbformat_minor": 5
}
