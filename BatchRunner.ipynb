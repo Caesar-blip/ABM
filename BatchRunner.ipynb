{
 "cells": [
  {
   "cell_type": "code",
   "execution_count": 1,
   "id": "6881756c",
   "metadata": {},
   "outputs": [],
   "source": [
    "'''\n",
    "This notebook implements a batch run for OFAT analysis\n",
    "Packages\n",
    "'''\n",
    "from model import *\n",
    "import csv\n",
    "from mesa.batchrunner import BatchRunner\n",
    "import pandas as pd\n",
    "import numpy as np\n",
    "import tqdm as tqdm\n",
    "import seaborn as sns\n",
    "import matplotlib.pyplot as plt\n",
    "import time\n",
    "from SALib.sample import saltelli\n",
    "from SALib.analyze import sobol\n",
    "from itertools import combinations\n",
    "from joblib import Parallel, delayed"
   ]
  },
  {
   "cell_type": "code",
   "execution_count": 2,
   "id": "415c1214",
   "metadata": {},
   "outputs": [],
   "source": [
    "'''\n",
    "Defaults\n",
    "'''\n",
    "height = 20\n",
    "width = 20\n",
    "initial_houses = 100\n",
    "initial_households = 150\n",
    "savings_lower = 0\n",
    "savings_upper = 0\n",
    "price_lower = 100_000\n",
    "price_upper = 1_000_000\n",
    "payoff_perc_freehold = 0.0025\n",
    "inflation = 0.02\n",
    "house_price = 400_000\n",
    "chi_parameter = 6.5\n",
    "maximum_age = 100\n",
    "minimum_age = 20\n",
    "age_utility_scaling = 0.01\n",
    "maximum_moving_age = 65\n",
    "bank_income_multiplire = 8\n",
    "fraction_good_houses = 0.05\n",
    "price_shock_range = 6"
   ]
  },
  {
   "cell_type": "code",
   "execution_count": 2,
   "id": "8b8cb906",
   "metadata": {},
   "outputs": [],
   "source": [
    "columns = ('Variable', 'Parameter', 'Gini')\n",
    "\n",
    "'''\n",
    "This defines model run\n",
    "'''\n",
    "samples = 10\n",
    "max_steps = 2\n",
    "ofat_size = 5"
   ]
  },
  {
   "cell_type": "code",
   "execution_count": 3,
   "id": "a8341151",
   "metadata": {},
   "outputs": [],
   "source": [
    "def collect_samples(samples, columns, parameter, values):\n",
    "    df_experiment = pd.DataFrame(columns=columns)\n",
    "    parameter_name = parameter\n",
    "    kwargs = {f'{parameter}':values}\n",
    "    for k in range(int(samples)):\n",
    "        '''\n",
    "        Repeat trial with certain parameter k times to apply clt\n",
    "        '''            \n",
    "        model = HousingMarket(**kwargs)\n",
    "        model.run_model(max_steps)\n",
    "        data = model.datacollector.get_model_vars_dataframe()\n",
    "        dic = {'Variable': parameter_name, 'Parameter': values, 'Gini': data['Gini'].iloc[-1]}\n",
    "        df_experiment = pd.concat([df_experiment, pd.DataFrame(pd.Series(dic)).T])\n",
    "    return df_experiment\n",
    "\n",
    "def run_batch_parallel(problem, i, ofat_size, samples, columns):\n",
    "    parameter = problem['names'][i]\n",
    "    variable_values = np.linspace(*problem['bounds'][i], ofat_size)\n",
    "    results = Parallel(n_jobs=8)(delayed(collect_samples)(samples, columns, parameter, value)\n",
    "                       for value in variable_values)\n",
    "    final = pd.concat(results)\n",
    "    return final\n",
    "\n",
    "def run_batch_parallel_plotter(result, i):\n",
    "    '''\n",
    "    This plots the result from running a batch runner in parallel\n",
    "    '''\n",
    "    \n",
    "    fig = plt.plot( figsize = (20,40))\n",
    "    y = []\n",
    "    err = []\n",
    "    x = np.linspace(*problem['bounds'][i], ofat_size)\n",
    "\n",
    "    for j in range(len(x)):\n",
    "        series = result['Gini'][int(j*samples):int((j+1)*samples)]\n",
    "        y.append(series.mean())\n",
    "        err.append(1.96 * (series.std()/np.sqrt(samples)))\n",
    "\n",
    "    plt.plot(x, y , c='k')\n",
    "    plt.fill_between(x, np.array(y) - np.array(err), np.array(y) + np.array(err)) \n",
    "    plt.ylabel(\"Gini\")\n",
    "    plt.xlabel(problem['names'][i])\n",
    "    plt.show()"
   ]
  },
  {
   "cell_type": "code",
   "execution_count": 5,
   "id": "fc5f7258",
   "metadata": {},
   "outputs": [],
   "source": [
    "'''\n",
    "This defines the bounds of for the ofat analysis\n",
    "'''\n",
    "problem = {\n",
    "    'names': ['savings_lower', 'savings_upper', 'price_lower', 'price_upper', \n",
    "              'payoff_perc_freehold', 'inflation', 'chi_parameter', 'bank_income_multiplier'],\n",
    "    'bounds': [[1, 40_000], [1, 100_000], [10_000, 90_000], [11_000, 100_000],\n",
    "              [0.001,0.0025],[0.01,0.03],[5,7.5],[0,20]]    \n",
    "}\n",
    "\n",
    "columns = ('Variable', 'Parameter', 'Gini')\n",
    "\n",
    "'''\n",
    "This defines model run\n",
    "'''\n",
    "samples = 50\n",
    "max_steps = 1000\n",
    "# should be a multiple of your amount of cores\n",
    "ofat_size = 12"
   ]
  },
  {
   "cell_type": "code",
   "execution_count": null,
   "id": "99250816",
   "metadata": {
    "scrolled": true
   },
   "outputs": [],
   "source": [
    "results = run_batch_parallel(problem, 7, ofat_size, samples, columns)\n",
    "run_batch_parallel_plotter(results, 7)"
   ]
  },
  {
   "cell_type": "code",
   "execution_count": 8,
   "id": "818f3f9d",
   "metadata": {},
   "outputs": [
    {
     "data": {
      "text/html": [
       "<div>\n",
       "<style scoped>\n",
       "    .dataframe tbody tr th:only-of-type {\n",
       "        vertical-align: middle;\n",
       "    }\n",
       "\n",
       "    .dataframe tbody tr th {\n",
       "        vertical-align: top;\n",
       "    }\n",
       "\n",
       "    .dataframe thead th {\n",
       "        text-align: right;\n",
       "    }\n",
       "</style>\n",
       "<table border=\"1\" class=\"dataframe\">\n",
       "  <thead>\n",
       "    <tr style=\"text-align: right;\">\n",
       "      <th></th>\n",
       "      <th>Variable</th>\n",
       "      <th>Parameter</th>\n",
       "      <th>Gini</th>\n",
       "    </tr>\n",
       "  </thead>\n",
       "  <tbody>\n",
       "    <tr>\n",
       "      <th>0</th>\n",
       "      <td>bank_income_multiplier</td>\n",
       "      <td>bank_income_multiplier</td>\n",
       "      <td>0.330059</td>\n",
       "    </tr>\n",
       "    <tr>\n",
       "      <th>0</th>\n",
       "      <td>bank_income_multiplier</td>\n",
       "      <td>bank_income_multiplier</td>\n",
       "      <td>0.39093</td>\n",
       "    </tr>\n",
       "    <tr>\n",
       "      <th>0</th>\n",
       "      <td>bank_income_multiplier</td>\n",
       "      <td>bank_income_multiplier</td>\n",
       "      <td>0.431194</td>\n",
       "    </tr>\n",
       "    <tr>\n",
       "      <th>0</th>\n",
       "      <td>bank_income_multiplier</td>\n",
       "      <td>bank_income_multiplier</td>\n",
       "      <td>0.40192</td>\n",
       "    </tr>\n",
       "    <tr>\n",
       "      <th>0</th>\n",
       "      <td>bank_income_multiplier</td>\n",
       "      <td>bank_income_multiplier</td>\n",
       "      <td>0.334152</td>\n",
       "    </tr>\n",
       "    <tr>\n",
       "      <th>...</th>\n",
       "      <td>...</td>\n",
       "      <td>...</td>\n",
       "      <td>...</td>\n",
       "    </tr>\n",
       "    <tr>\n",
       "      <th>0</th>\n",
       "      <td>bank_income_multiplier</td>\n",
       "      <td>bank_income_multiplier</td>\n",
       "      <td>0.704185</td>\n",
       "    </tr>\n",
       "    <tr>\n",
       "      <th>0</th>\n",
       "      <td>bank_income_multiplier</td>\n",
       "      <td>bank_income_multiplier</td>\n",
       "      <td>0.722608</td>\n",
       "    </tr>\n",
       "    <tr>\n",
       "      <th>0</th>\n",
       "      <td>bank_income_multiplier</td>\n",
       "      <td>bank_income_multiplier</td>\n",
       "      <td>0.68568</td>\n",
       "    </tr>\n",
       "    <tr>\n",
       "      <th>0</th>\n",
       "      <td>bank_income_multiplier</td>\n",
       "      <td>bank_income_multiplier</td>\n",
       "      <td>0.694224</td>\n",
       "    </tr>\n",
       "    <tr>\n",
       "      <th>0</th>\n",
       "      <td>bank_income_multiplier</td>\n",
       "      <td>bank_income_multiplier</td>\n",
       "      <td>0.719346</td>\n",
       "    </tr>\n",
       "  </tbody>\n",
       "</table>\n",
       "<p>800 rows × 3 columns</p>\n",
       "</div>"
      ],
      "text/plain": [
       "                  Variable               Parameter      Gini\n",
       "0   bank_income_multiplier  bank_income_multiplier  0.330059\n",
       "0   bank_income_multiplier  bank_income_multiplier   0.39093\n",
       "0   bank_income_multiplier  bank_income_multiplier  0.431194\n",
       "0   bank_income_multiplier  bank_income_multiplier   0.40192\n",
       "0   bank_income_multiplier  bank_income_multiplier  0.334152\n",
       "..                     ...                     ...       ...\n",
       "0   bank_income_multiplier  bank_income_multiplier  0.704185\n",
       "0   bank_income_multiplier  bank_income_multiplier  0.722608\n",
       "0   bank_income_multiplier  bank_income_multiplier   0.68568\n",
       "0   bank_income_multiplier  bank_income_multiplier  0.694224\n",
       "0   bank_income_multiplier  bank_income_multiplier  0.719346\n",
       "\n",
       "[800 rows x 3 columns]"
      ]
     },
     "execution_count": 8,
     "metadata": {},
     "output_type": "execute_result"
    }
   ],
   "source": [
    "results"
   ]
  },
  {
   "cell_type": "markdown",
   "id": "54753511",
   "metadata": {},
   "source": [
    "## Global Sensitivy Analysis"
   ]
  },
  {
   "cell_type": "code",
   "execution_count": 2,
   "id": "9930a6d1",
   "metadata": {},
   "outputs": [],
   "source": [
    "def run_SOBOL(values, problem, max_steps, counter):\n",
    "    # build kwargs\n",
    "    kwargs = {}\n",
    "    for i, name in enumerate(problem['names']):\n",
    "        kwargs[name] = values[i]\n",
    "    model = HousingMarket(**kwargs)\n",
    "    model.run_model(max_steps)\n",
    "    data = model.datacollector.get_model_vars_dataframe()\n",
    "        \n",
    "    # add run data to the dictionary\n",
    "    kwargs['Run'] = counter\n",
    "    kwargs['Gini'] = data['Gini'].iloc[-1]\n",
    "\n",
    "    return pd.DataFrame(pd.Series(kwargs)).T\n",
    "    "
   ]
  },
  {
   "cell_type": "code",
   "execution_count": 3,
   "id": "9cf97d73",
   "metadata": {},
   "outputs": [],
   "source": [
    "'''\n",
    "This section runs Sobol\n",
    "'''\n",
    "problem = {\n",
    "    'num_vars': 8,\n",
    "    'names': ['savings_lower', 'savings_upper', 'price_lower', 'price_upper', \n",
    "              'payoff_perc_freehold', 'inflation', 'chi_parameter', 'bank_income_multiplier'],\n",
    "    'bounds': [[1, 40_000], [50_000, 100_000], [10_000, 90_000], [100_000, 1_000_000],\n",
    "              [0.001,0.0025],[0.01,0.03],[5,7.5],[6,9]]    \n",
    "}"
   ]
  },
  {
   "cell_type": "code",
   "execution_count": 13,
   "id": "fc6ccb0b",
   "metadata": {},
   "outputs": [],
   "source": [
    "replicates = 2\n",
    "max_steps = 1000\n",
    "distinct_samples = 8"
   ]
  },
  {
   "cell_type": "code",
   "execution_count": 14,
   "id": "09302713",
   "metadata": {
    "scrolled": true
   },
   "outputs": [],
   "source": [
    "'''\n",
    "Generate Saltetlli sample\n",
    "'''\n",
    "param_values = saltelli.sample(problem, distinct_samples)\n",
    "random.shuffle(param_values)"
   ]
  },
  {
   "cell_type": "code",
   "execution_count": 18,
   "id": "b1253064",
   "metadata": {},
   "outputs": [],
   "source": [
    "results = Parallel(n_jobs=8)(delayed(run_SOBOL)(param_values[i], problem, max_steps, \n",
    "                                                i)\n",
    "                       for i in range(len(param_values)))\n",
    "\n",
    "df_global = pd.concat(results)\n"
   ]
  },
  {
   "cell_type": "code",
   "execution_count": 7,
   "id": "6d31d809",
   "metadata": {},
   "outputs": [
    {
     "name": "stdout",
     "output_type": "stream",
     "text": [
      "                              ST   ST_conf\n",
      "savings_lower           0.586677  0.974987\n",
      "savings_upper           0.704450  0.903674\n",
      "price_lower             0.674558  0.859667\n",
      "price_upper             0.600465  1.050343\n",
      "payoff_perc_freehold    0.574901  0.644636\n",
      "inflation               0.899490  1.122602\n",
      "chi_parameter           1.405212  0.807948\n",
      "bank_income_multiplier  0.396039  0.314183\n",
      "                              S1   S1_conf\n",
      "savings_lower           0.018644  0.825776\n",
      "savings_upper          -0.572987  0.859922\n",
      "price_lower             0.020293  0.737667\n",
      "price_upper             0.025638  0.601212\n",
      "payoff_perc_freehold   -0.214667  0.829914\n",
      "inflation               0.034643  1.056433\n",
      "chi_parameter           0.346652  1.718566\n",
      "bank_income_multiplier  0.069329  0.689487\n",
      "                                                      S2   S2_conf\n",
      "(savings_lower, savings_upper)                  0.469608  0.996171\n",
      "(savings_lower, price_lower)                   -0.121867  0.971376\n",
      "(savings_lower, price_upper)                   -0.087414  0.900162\n",
      "(savings_lower, payoff_perc_freehold)           0.185720  0.878255\n",
      "(savings_lower, inflation)                      0.032863  1.045207\n",
      "(savings_lower, chi_parameter)                 -0.001024  1.302643\n",
      "(savings_lower, bank_income_multiplier)        -0.069333  0.835838\n",
      "(savings_upper, price_lower)                    0.729939  0.991866\n",
      "(savings_upper, price_upper)                    0.816551  0.794141\n",
      "(savings_upper, payoff_perc_freehold)           1.052594  1.259742\n",
      "(savings_upper, inflation)                      0.564592  1.039231\n",
      "(savings_upper, chi_parameter)                  0.190912  1.639730\n",
      "(savings_upper, bank_income_multiplier)         0.624896  1.001442\n",
      "(price_lower, price_upper)                     -0.066571  0.844979\n",
      "(price_lower, payoff_perc_freehold)             0.248304  1.021767\n",
      "(price_lower, inflation)                        0.234754  1.412462\n",
      "(price_lower, chi_parameter)                   -0.135352  2.425448\n",
      "(price_lower, bank_income_multiplier)           0.265293  1.179566\n",
      "(price_upper, payoff_perc_freehold)             0.212010  0.907481\n",
      "(price_upper, inflation)                        0.350852  1.549821\n",
      "(price_upper, chi_parameter)                   -0.236463  2.004299\n",
      "(price_upper, bank_income_multiplier)          -0.008489  0.863669\n",
      "(payoff_perc_freehold, inflation)               0.226718  1.100554\n",
      "(payoff_perc_freehold, chi_parameter)          -0.269723  0.887047\n",
      "(payoff_perc_freehold, bank_income_multiplier)  0.240781  0.802966\n",
      "(inflation, chi_parameter)                     -0.650586  2.419831\n",
      "(inflation, bank_income_multiplier)            -0.073996  1.185232\n",
      "(chi_parameter, bank_income_multiplier)        -0.583148  1.876173\n"
     ]
    }
   ],
   "source": [
    "sobal_gini = sobol.analyze(problem, df_global['Gini'].values, print_to_console = True )"
   ]
  },
  {
   "cell_type": "code",
   "execution_count": 8,
   "id": "7c3758b1",
   "metadata": {},
   "outputs": [],
   "source": [
    "'''\n",
    "Code from notebook\n",
    "'''\n",
    "\n",
    "def plot_index(s, params, i, title=''):\n",
    "    \"\"\"\n",
    "    Creates a plot for Sobol sensitivity analysis that shows the contributions\n",
    "    of each parameter to the global sensitivity.\n",
    "\n",
    "    Args:\n",
    "        s (dict): dictionary {'S#': dict, 'S#_conf': dict} of dicts that hold\n",
    "            the values for a set of parameters\n",
    "        params (list): the parameters taken from s\n",
    "        i (str): string that indicates what order the sensitivity is.\n",
    "        title (str): title for the plot\n",
    "    \"\"\"\n",
    "\n",
    "    if i == '2':\n",
    "        p = len(params)\n",
    "        params = list(combinations(params, 2))\n",
    "        indices = s['S' + i].reshape((p ** 2))\n",
    "        indices = indices[~np.isnan(indices)]\n",
    "        errors = s['S' + i + '_conf'].reshape((p ** 2))\n",
    "        errors = errors[~np.isnan(errors)]\n",
    "    else:\n",
    "        indices = s['S' + i]\n",
    "        errors = s['S' + i + '_conf']\n",
    "        plt.figure()\n",
    "\n",
    "    l = len(indices)\n",
    "\n",
    "    plt.title(title)\n",
    "    plt.ylim([-0.2, len(indices) - 1 + 0.2])\n",
    "    plt.yticks(range(l), params)\n",
    "    plt.errorbar(indices, range(l), xerr=errors, linestyle='None', marker='o')\n",
    "    plt.axvline(0, c='k')"
   ]
  },
  {
   "cell_type": "code",
   "execution_count": 9,
   "id": "25022b7b",
   "metadata": {},
   "outputs": [
    {
     "data": {
      "image/png": "[encoded data removed]",
      "text/plain": [
       "<Figure size 432x288 with 1 Axes>"
      ]
     },
     "metadata": {
      "needs_background": "light"
     },
     "output_type": "display_data"
    },
    {
     "data": {
      "image/png": "[encoded data removed]",
      "text/plain": [
       "<Figure size 432x288 with 1 Axes>"
      ]
     },
     "metadata": {
      "needs_background": "light"
     },
     "output_type": "display_data"
    },
    {
     "data": {
      "image/png": "[encoded data removed]",
      "text/plain": [
       "<Figure size 432x288 with 1 Axes>"
      ]
     },
     "metadata": {
      "needs_background": "light"
     },
     "output_type": "display_data"
    }
   ],
   "source": [
    "# First order\n",
    "plot_index(sobal_gini, problem['names'], '1', 'First order sensitivity')\n",
    "plt.show()\n",
    "\n",
    "# Second order\n",
    "plot_index(sobal_gini, problem['names'], '2', 'Second order sensitivity')\n",
    "plt.show()\n",
    "\n",
    "# Total order\n",
    "plot_index(sobal_gini, problem['names'], 'T', 'Total order sensitivity')\n",
    "plt.show()"
   ]
  },
  {
   "cell_type": "code",
   "execution_count": null,
   "id": "fc364bdc",
   "metadata": {},
   "outputs": [],
   "source": []
  }
 ],
 "metadata": {
  "kernelspec": {
   "display_name": "Python 3 (ipykernel)",
   "language": "python",
   "name": "python3"
  },
  "language_info": {
   "codemirror_mode": {
    "name": "ipython",
    "version": 3
   },
   "file_extension": ".py",
   "mimetype": "text/x-python",
   "name": "python",
   "nbconvert_exporter": "python",
   "pygments_lexer": "ipython3",
   "version": "3.9.2"
  }
 },
 "nbformat": 4,
 "nbformat_minor": 5
}
