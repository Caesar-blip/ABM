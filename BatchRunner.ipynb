{
 "cells": [
  {
   "cell_type": "code",
   "execution_count": 4,
   "id": "6881756c",
   "metadata": {},
   "outputs": [],
   "source": [
    "'''\n",
    "This notebook implements a batch run for OFAT analysis\n",
    "Packages\n",
    "'''\n",
    "from model import *\n",
    "import csv\n",
    "from mesa.batchrunner import BatchRunner\n",
    "import pandas as pd\n",
    "import numpy as np\n",
    "import tqdm as tqdm\n",
    "import seaborn as sns\n",
    "import matplotlib.pyplot as plt\n",
    "import time\n",
    "from SALib.sample import saltelli\n",
    "from SALib.analyze import sobol\n",
    "from itertools import combinations\n",
    "from joblib import Parallel, delayed"
   ]
  },
  {
   "cell_type": "code",
   "execution_count": 5,
   "id": "9ac71245",
   "metadata": {},
   "outputs": [],
   "source": [
    "'''\n",
    "Initial Conditions as given in notebook\n",
    "'''\n",
    "initial_houses = 20\n",
    "initial_households = 30\n",
    "rental_cost = 1000\n",
    "savings_lower = 0\n",
    "savings_upper = 50_000\n",
    "price_lower = 10_000\n",
    "price_upper = 100_000\n",
    "\n",
    "'''\n",
    "This defines model run\n",
    "'''\n",
    "samples = 10\n",
    "max_steps = 2\n",
    "ofat_size = 5"
   ]
  },
  {
   "cell_type": "code",
   "execution_count": 6,
   "id": "e59fc397",
   "metadata": {},
   "outputs": [],
   "source": [
    "'''\n",
    "This defines the bounds of for the ofat analysis\n",
    "'''\n",
    "problem = {\n",
    "    'names': ['savings_lower', 'savings_upper', 'price_lower', 'price_upper', 'rental_cost'],\n",
    "    'bounds': [[1, 40_000], [1, 100_000], [10_000, 90_000], [11_000, 100_000], [1000, 20_000]]    \n",
    "}"
   ]
  },
  {
   "cell_type": "code",
   "execution_count": 42,
   "id": "f984bdab",
   "metadata": {},
   "outputs": [],
   "source": [
    "def run_batch(problem, i, ofat_size):\n",
    "    parameter = problem['names'][i]\n",
    "    variable_values = np.linspace(*problem['bounds'][i], ofat_size)\n",
    "    df_experiment = pd.DataFrame(columns = ('Variable', 'Parameter', 'Gini'))\n",
    "    \n",
    "    for j in variable_values:\n",
    "        '''\n",
    "        Iterate over bounds of paramter\n",
    "        '''\n",
    "                    \n",
    "        for k in range(samples):\n",
    "            '''\n",
    "            Repeat trial with certain parameter k times to apply clt\n",
    "            '''            \n",
    "            model = HousingMarket(parameter := int(j))\n",
    "            model.run_model(max_steps)\n",
    "            data = model.datacollector.get_model_vars_dataframe()\n",
    "            \n",
    "            dict = {'Variable': var, 'Parameter': j, 'Gini': data['Gini'].iloc[-1]}\n",
    "            df_experiment = pd.concat([df_experiment, pd.DataFrame(pd.Series(dic)).T])\n",
    "    return df_experiment"
   ]
  },
  {
   "cell_type": "code",
   "execution_count": null,
   "id": "3479007b",
   "metadata": {},
   "outputs": [],
   "source": [
    "results = Parallel(n_jobs=8)(delayed(run_batch)(problem, i, ofat_size)\n",
    "                             for i in range(len(problem['names'])))"
   ]
  },
  {
   "cell_type": "code",
   "execution_count": 34,
   "id": "91fcd582",
   "metadata": {
    "scrolled": true
   },
   "outputs": [
    {
     "name": "stderr",
     "output_type": "stream",
     "text": [
      "1it [00:51, 51.70s/it]\n"
     ]
    },
    {
     "ename": "KeyboardInterrupt",
     "evalue": "",
     "output_type": "error",
     "traceback": [
      "\u001b[1;31m---------------------------------------------------------------------------\u001b[0m",
      "\u001b[1;31mKeyboardInterrupt\u001b[0m                         Traceback (most recent call last)",
      "Input \u001b[1;32mIn [34]\u001b[0m, in \u001b[0;36m<module>\u001b[1;34m\u001b[0m\n\u001b[0;32m     18\u001b[0m \u001b[38;5;28;01mfor\u001b[39;00m k \u001b[38;5;129;01min\u001b[39;00m \u001b[38;5;28mrange\u001b[39m(samples):\n\u001b[0;32m     19\u001b[0m     \u001b[38;5;124;03m'''\u001b[39;00m\n\u001b[0;32m     20\u001b[0m \u001b[38;5;124;03m    Repeat trial with certain parameter k times to apply clt\u001b[39;00m\n\u001b[0;32m     21\u001b[0m \u001b[38;5;124;03m    '''\u001b[39;00m            \n\u001b[1;32m---> 22\u001b[0m     model \u001b[38;5;241m=\u001b[39m \u001b[43mHousingMarket\u001b[49m\u001b[43m(\u001b[49m\u001b[43mparameter\u001b[49m\u001b[43m \u001b[49m\u001b[38;5;241;43m:=\u001b[39;49m\u001b[43m \u001b[49m\u001b[38;5;28;43mint\u001b[39;49m\u001b[43m(\u001b[49m\u001b[43mj\u001b[49m\u001b[43m)\u001b[49m\u001b[43m)\u001b[49m\n\u001b[0;32m     23\u001b[0m     model\u001b[38;5;241m.\u001b[39mrun_model(max_steps)\n\u001b[0;32m     24\u001b[0m     data \u001b[38;5;241m=\u001b[39m model\u001b[38;5;241m.\u001b[39mdatacollector\u001b[38;5;241m.\u001b[39mget_model_vars_dataframe()\n",
      "File \u001b[1;32m~\\Documents\\CLS\\Agent-Based Modelling\\ABM\\model.py:47\u001b[0m, in \u001b[0;36mHousingMarket.__init__\u001b[1;34m(self, height, width, initial_houses, initial_households, rental_cost, savings_lower, savings_upper, price_lower, price_upper, payoff_perc_freehold, inflation)\u001b[0m\n\u001b[0;32m     44\u001b[0m \u001b[38;5;28mself\u001b[39m\u001b[38;5;241m.\u001b[39mages, \u001b[38;5;28mself\u001b[39m\u001b[38;5;241m.\u001b[39mage_distr \u001b[38;5;241m=\u001b[39m \u001b[38;5;28mself\u001b[39m\u001b[38;5;241m.\u001b[39mdraw_age_distribution()\n\u001b[0;32m     45\u001b[0m \u001b[38;5;28mself\u001b[39m\u001b[38;5;241m.\u001b[39minflation \u001b[38;5;241m=\u001b[39m inflation\n\u001b[1;32m---> 47\u001b[0m \u001b[38;5;28mself\u001b[39m\u001b[38;5;241m.\u001b[39mgrid \u001b[38;5;241m=\u001b[39m \u001b[43mMultiGrid\u001b[49m\u001b[43m(\u001b[49m\u001b[38;5;28;43mself\u001b[39;49m\u001b[38;5;241;43m.\u001b[39;49m\u001b[43mwidth\u001b[49m\u001b[43m,\u001b[49m\u001b[43m \u001b[49m\u001b[38;5;28;43mself\u001b[39;49m\u001b[38;5;241;43m.\u001b[39;49m\u001b[43mheight\u001b[49m\u001b[43m,\u001b[49m\u001b[43m \u001b[49m\u001b[43mtorus\u001b[49m\u001b[38;5;241;43m=\u001b[39;49m\u001b[38;5;28;43;01mTrue\u001b[39;49;00m\u001b[43m)\u001b[49m\n\u001b[0;32m     49\u001b[0m \u001b[38;5;28mself\u001b[39m\u001b[38;5;241m.\u001b[39mschedule_House \u001b[38;5;241m=\u001b[39m HouseActivation(\u001b[38;5;28mself\u001b[39m)\n\u001b[0;32m     50\u001b[0m \u001b[38;5;28mself\u001b[39m\u001b[38;5;241m.\u001b[39mschedule_Household \u001b[38;5;241m=\u001b[39m RandomActivation(\u001b[38;5;28mself\u001b[39m)\n",
      "File \u001b[1;32m~\\.virtualenvs\\ABM-t0XFpI9W\\lib\\site-packages\\mesa\\space.py:114\u001b[0m, in \u001b[0;36mGrid.__init__\u001b[1;34m(self, width, height, torus)\u001b[0m\n\u001b[0;32m    111\u001b[0m     \u001b[38;5;28mself\u001b[39m\u001b[38;5;241m.\u001b[39mgrid\u001b[38;5;241m.\u001b[39mappend(col)\n\u001b[0;32m    113\u001b[0m \u001b[38;5;66;03m# Add all cells to the empties list.\u001b[39;00m\n\u001b[1;32m--> 114\u001b[0m \u001b[38;5;28mself\u001b[39m\u001b[38;5;241m.\u001b[39mempties \u001b[38;5;241m=\u001b[39m \u001b[38;5;28mset\u001b[39m(itertools\u001b[38;5;241m.\u001b[39mproduct(\u001b[38;5;241m*\u001b[39m(\u001b[38;5;28mrange\u001b[39m(\u001b[38;5;28mself\u001b[39m\u001b[38;5;241m.\u001b[39mwidth), \u001b[38;5;28mrange\u001b[39m(\u001b[38;5;28mself\u001b[39m\u001b[38;5;241m.\u001b[39mheight))))\n\u001b[0;32m    116\u001b[0m \u001b[38;5;66;03m# Neighborhood Cache\u001b[39;00m\n\u001b[0;32m    117\u001b[0m \u001b[38;5;28mself\u001b[39m\u001b[38;5;241m.\u001b[39m_neighborhood_cache: Dict[Any, List[Coordinate]] \u001b[38;5;241m=\u001b[39m \u001b[38;5;28mdict\u001b[39m()\n",
      "\u001b[1;31mKeyboardInterrupt\u001b[0m: "
     ]
    }
   ],
   "source": [
    "'''\n",
    "This defines the batch run\n",
    "'''\n",
    "df_experiment = pd.DataFrame(columns = ('Variable', 'Parameter', 'Gini'))\n",
    "\n",
    "for i, var in tqdm.tqdm(enumerate(problem['names'])):\n",
    "    '''\n",
    "    Iterate over parameters as defined in problem\n",
    "    '''\n",
    "    parameter = var\n",
    "    variable_values = np.linspace(*problem['bounds'][i], ofat_size)\n",
    "    \n",
    "    for j in variable_values:\n",
    "        '''\n",
    "        Iterate over bounds of paramter\n",
    "        '''\n",
    "                    \n",
    "        for k in range(samples):\n",
    "            '''\n",
    "            Repeat trial with certain parameter k times to apply clt\n",
    "            '''            \n",
    "            model = HousingMarket(parameter := int(j))\n",
    "            model.run_model(max_steps)\n",
    "            data = model.datacollector.get_model_vars_dataframe()\n",
    "            \n",
    "            dic = {'Variable': var, 'Parameter': j, 'Gini': data['Gini'].iloc[-1]}\n",
    "            #df_experiment = df_experiment.append(dict, ignore_index=True)\n",
    "            df_experiment = pd.concat([df_experiment, pd.DataFrame(pd.Series(dic)).T])\n",
    "'''\n",
    "Save result to Panda's dataframe\n",
    "'''\n",
    "            \n",
    "experiment_raw = df_experiment\n",
    "experiment_raw = df_experiment.set_index(['Variable', 'Parameter'])"
   ]
  },
  {
   "cell_type": "code",
   "execution_count": 33,
   "id": "7b8a5add",
   "metadata": {},
   "outputs": [
    {
     "data": {
      "text/html": [
       "<div>\n",
       "<style scoped>\n",
       "    .dataframe tbody tr th:only-of-type {\n",
       "        vertical-align: middle;\n",
       "    }\n",
       "\n",
       "    .dataframe tbody tr th {\n",
       "        vertical-align: top;\n",
       "    }\n",
       "\n",
       "    .dataframe thead th {\n",
       "        text-align: right;\n",
       "    }\n",
       "</style>\n",
       "<table border=\"1\" class=\"dataframe\">\n",
       "  <thead>\n",
       "    <tr style=\"text-align: right;\">\n",
       "      <th></th>\n",
       "      <th>Variable</th>\n",
       "      <th>Parameter</th>\n",
       "      <th>Gini</th>\n",
       "    </tr>\n",
       "  </thead>\n",
       "  <tbody>\n",
       "    <tr>\n",
       "      <th>0</th>\n",
       "      <td>savings_lower</td>\n",
       "      <td>1.0</td>\n",
       "      <td>0.752555</td>\n",
       "    </tr>\n",
       "  </tbody>\n",
       "</table>\n",
       "</div>"
      ],
      "text/plain": [
       "        Variable Parameter      Gini\n",
       "0  savings_lower       1.0  0.752555"
      ]
     },
     "execution_count": 33,
     "metadata": {},
     "output_type": "execute_result"
    }
   ],
   "source": []
  },
  {
   "cell_type": "code",
   "execution_count": 24,
   "id": "7bb463d7",
   "metadata": {
    "scrolled": true
   },
   "outputs": [
    {
     "data": {
      "text/html": [
       "<div>\n",
       "<style scoped>\n",
       "    .dataframe tbody tr th:only-of-type {\n",
       "        vertical-align: middle;\n",
       "    }\n",
       "\n",
       "    .dataframe tbody tr th {\n",
       "        vertical-align: top;\n",
       "    }\n",
       "\n",
       "    .dataframe thead th {\n",
       "        text-align: right;\n",
       "    }\n",
       "</style>\n",
       "<table border=\"1\" class=\"dataframe\">\n",
       "  <thead>\n",
       "    <tr style=\"text-align: right;\">\n",
       "      <th></th>\n",
       "      <th>Variable</th>\n",
       "      <th>Parameter</th>\n",
       "      <th>Gini</th>\n",
       "    </tr>\n",
       "  </thead>\n",
       "  <tbody>\n",
       "  </tbody>\n",
       "</table>\n",
       "</div>"
      ],
      "text/plain": [
       "Empty DataFrame\n",
       "Columns: [Variable, Parameter, Gini]\n",
       "Index: []"
      ]
     },
     "execution_count": 24,
     "metadata": {},
     "output_type": "execute_result"
    }
   ],
   "source": [
    "df_experiment"
   ]
  },
  {
   "cell_type": "code",
   "execution_count": null,
   "id": "2c51f6d2",
   "metadata": {
    "scrolled": false
   },
   "outputs": [],
   "source": [
    "# Data\n",
    "fig, axs = plt.subplots(len(problem['names']), figsize = (20,40))\n",
    "\n",
    "for i, var in enumerate(problem['names']):\n",
    "    \n",
    "    y = []\n",
    "    err = []\n",
    "    \n",
    "    parameter = var\n",
    "    x = np.linspace(*problem['bounds'][i], ofat_size)\n",
    "\n",
    "    \n",
    "    for j in x:\n",
    "        y.append(experiment_raw.loc[var, j].mean()[0])\n",
    "        err.append(1.96 * experiment_raw.loc[var, j].std()[0] / np.sqrt(samples))\n",
    "    \n",
    "    axs[i].plot(x, y, c = 'k')\n",
    "    axs[i].fill_between(x, np.array(y) - np.array(err), np.array(y) + np.array(err)) \n",
    "    axs[i].set_ylabel(\"Gini\")\n",
    "    axs[i].set_xlabel(var)"
   ]
  },
  {
   "cell_type": "markdown",
   "id": "54753511",
   "metadata": {},
   "source": [
    "## Global Sensitivy Analysis"
   ]
  },
  {
   "cell_type": "code",
   "execution_count": null,
   "id": "9cf97d73",
   "metadata": {},
   "outputs": [],
   "source": [
    "'''\n",
    "This section runs Sobol\n",
    "'''\n",
    "\n",
    "\n",
    "problem = {\n",
    "    'num_vars': 3,\n",
    "    'names': ['price_lower', 'price_upper', 'rental_cost'],\n",
    "    'bounds': [[10_000, 20_000], [21_000, 100_000], [1000, 20_000]]    \n",
    "}"
   ]
  },
  {
   "cell_type": "code",
   "execution_count": null,
   "id": "fc6ccb0b",
   "metadata": {},
   "outputs": [],
   "source": [
    "replicates = 10\n",
    "max_steps = 50\n",
    "distinct_samples = 10"
   ]
  },
  {
   "cell_type": "code",
   "execution_count": null,
   "id": "09302713",
   "metadata": {
    "scrolled": true
   },
   "outputs": [],
   "source": [
    "'''\n",
    "Generate Saltetlli sample\n",
    "'''\n",
    "param_values = saltelli.sample(problem, distinct_samples)"
   ]
  },
  {
   "cell_type": "code",
   "execution_count": null,
   "id": "e2e21aec",
   "metadata": {},
   "outputs": [],
   "source": [
    "counter = 0\n",
    "df_global = pd.DataFrame(columns = ('Price_lower', 'Price_higher', 'Rental_cost', 'Run', 'Gini'))\n",
    "\n",
    "for i in range(replicates):\n",
    "    for vals in param_values:       \n",
    "        model = HousingMarket(price_lower = int(vals[0]), price_upper = int(vals[1]), rental_cost = int(vals[2]))\n",
    "        model.run_model(max_steps)\n",
    "        data = model.datacollector.get_model_vars_dataframe()\n",
    "        dict = {'Price_lower': vals[0], 'Price_higher': vals[1],\n",
    "                'Rental_cost': vals[2], 'Run': counter, 'Gini': data['Gini'].iloc[-1]}\n",
    "        df_global = df_global.append(dict, ignore_index=True)\n",
    "        counter += 1"
   ]
  },
  {
   "cell_type": "code",
   "execution_count": null,
   "id": "b1253064",
   "metadata": {},
   "outputs": [],
   "source": [
    "df_global"
   ]
  },
  {
   "cell_type": "code",
   "execution_count": null,
   "id": "6d31d809",
   "metadata": {},
   "outputs": [],
   "source": [
    "sobal_gini = sobol.analyze(problem, df_global['Gini'].values, print_to_console = True )"
   ]
  },
  {
   "cell_type": "code",
   "execution_count": null,
   "id": "7c3758b1",
   "metadata": {},
   "outputs": [],
   "source": [
    "'''\n",
    "Code from notebook\n",
    "'''\n",
    "\n",
    "def plot_index(s, params, i, title=''):\n",
    "    \"\"\"\n",
    "    Creates a plot for Sobol sensitivity analysis that shows the contributions\n",
    "    of each parameter to the global sensitivity.\n",
    "\n",
    "    Args:\n",
    "        s (dict): dictionary {'S#': dict, 'S#_conf': dict} of dicts that hold\n",
    "            the values for a set of parameters\n",
    "        params (list): the parameters taken from s\n",
    "        i (str): string that indicates what order the sensitivity is.\n",
    "        title (str): title for the plot\n",
    "    \"\"\"\n",
    "\n",
    "    if i == '2':\n",
    "        p = len(params)\n",
    "        params = list(combinations(params, 2))\n",
    "        indices = s['S' + i].reshape((p ** 2))\n",
    "        indices = indices[~np.isnan(indices)]\n",
    "        errors = s['S' + i + '_conf'].reshape((p ** 2))\n",
    "        errors = errors[~np.isnan(errors)]\n",
    "    else:\n",
    "        indices = s['S' + i]\n",
    "        errors = s['S' + i + '_conf']\n",
    "        plt.figure()\n",
    "\n",
    "    l = len(indices)\n",
    "\n",
    "    plt.title(title)\n",
    "    plt.ylim([-0.2, len(indices) - 1 + 0.2])\n",
    "    plt.yticks(range(l), params)\n",
    "    plt.errorbar(indices, range(l), xerr=errors, linestyle='None', marker='o')\n",
    "    plt.axvline(0, c='k')"
   ]
  },
  {
   "cell_type": "code",
   "execution_count": null,
   "id": "7de41383",
   "metadata": {},
   "outputs": [],
   "source": [
    "problem['names']"
   ]
  },
  {
   "cell_type": "code",
   "execution_count": null,
   "id": "25022b7b",
   "metadata": {},
   "outputs": [],
   "source": [
    "# First order\n",
    "plot_index(sobal_gini, problem['names'], '1', 'First order sensitivity')\n",
    "plt.show()\n",
    "\n",
    "# Second order\n",
    "plot_index(sobal_gini, problem['names'], '2', 'Second order sensitivity')\n",
    "plt.show()\n",
    "\n",
    "# Total order\n",
    "plot_index(sobal_gini, problem['names'], 'T', 'Total order sensitivity')\n",
    "plt.show()"
   ]
  },
  {
   "cell_type": "code",
   "execution_count": null,
   "id": "fc364bdc",
   "metadata": {},
   "outputs": [],
   "source": []
  }
 ],
 "metadata": {
  "kernelspec": {
   "display_name": "Python 3 (ipykernel)",
   "language": "python",
   "name": "python3"
  },
  "language_info": {
   "codemirror_mode": {
    "name": "ipython",
    "version": 3
   },
   "file_extension": ".py",
   "mimetype": "text/x-python",
   "name": "python",
   "nbconvert_exporter": "python",
   "pygments_lexer": "ipython3",
   "version": "3.9.2"
  }
 },
 "nbformat": 4,
 "nbformat_minor": 5
}
