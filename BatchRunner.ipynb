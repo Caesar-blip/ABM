{
 "cells": [
  {
   "cell_type": "code",
   "execution_count": 1,
   "id": "6881756c",
   "metadata": {},
   "outputs": [],
   "source": [
    "'''\n",
    "This notebook implements a batch run for OFAT analysis\n",
    "Packages\n",
    "'''\n",
    "from model import *\n",
    "import csv\n",
    "from mesa.batchrunner import BatchRunner\n",
    "import pandas as pd\n",
    "import numpy as np\n",
    "import tqdm as tqdm\n",
    "import seaborn as sns\n",
    "import matplotlib.pyplot as plt\n",
    "import time\n",
    "from SALib.sample import saltelli\n",
    "from SALib.analyze import sobol\n",
    "from itertools import combinations\n",
    "from joblib import Parallel, delayed, cpu_count"
   ]
  },
  {
   "cell_type": "code",
   "execution_count": 7,
   "id": "a8341151",
   "metadata": {},
   "outputs": [],
   "source": [
    "def collect_samples(samples, columns, parameter, values):\n",
    "    df_experiment = pd.DataFrame(columns=columns)\n",
    "    parameter_name = parameter\n",
    "    kwargs = {f'{parameter}':values}\n",
    "    for k in range(int(samples)):\n",
    "        '''\n",
    "        Repeat trial with certain parameter k times to apply clt\n",
    "        '''            \n",
    "        model = HousingMarket(**kwargs)\n",
    "        model.run_model(max_steps)\n",
    "        data = model.datacollector.get_model_vars_dataframe()\n",
    "        dic = {'Variable': parameter_name, 'Parameter': values, 'Gini': data['Gini'].iloc[-1]}\n",
    "        df_experiment = pd.concat([df_experiment, pd.DataFrame(pd.Series(dic)).T])\n",
    "    return df_experiment\n",
    "\n",
    "def run_batch_parallel(problem, i, ofat_size, samples, columns):\n",
    "    parameter = problem['names'][i]\n",
    "    variable_values = np.linspace(*problem['bounds'][i], ofat_size)\n",
    "    results = Parallel(n_jobs= 10)(delayed(collect_samples)(samples, columns, parameter, value)\n",
    "                       for value in variable_values)\n",
    "    final = pd.concat(results)\n",
    "    return final\n",
    "\n",
    "def run_batch_parallel_plotter(result, i):\n",
    "    '''\n",
    "    This plots the result from running a batch runner in parallel\n",
    "    '''\n",
    "    \n",
    "    fig = plt.plot( figsize = (20,40))\n",
    "    y = []\n",
    "    err = []\n",
    "    x = np.linspace(*problem['bounds'][i], ofat_size)\n",
    "\n",
    "    for j in range(len(x)):\n",
    "        series = result['Gini'][int(j*samples):int((j+1)*samples)]\n",
    "        y.append(series.mean())\n",
    "        err.append(1.96 * (series.std()/np.sqrt(samples)))\n",
    "\n",
    "    plt.plot(x, y , c='k')\n",
    "    plt.fill_between(x, np.array(y) - np.array(err), np.array(y) + np.array(err)) \n",
    "    plt.ylabel(\"Gini\")\n",
    "    plt.xlabel(problem['names'][i])\n",
    "    plt.show()"
   ]
  },
  {
   "cell_type": "code",
   "execution_count": 5,
   "id": "fc5f7258",
   "metadata": {},
   "outputs": [],
   "source": [
    "'''\n",
    "This defines the bounds of for the ofat analysis\n",
    "'''\n",
    "problem = {\n",
    "    'names': ['savings_lower', 'savings_upper', 'price_lower', 'price_upper', \n",
    "              'payoff_perc_freehold', 'inflation', 'chi_parameter', 'bank_income_multiplier', \n",
    "             'alpha_mean', 'beta_mean', 'lmbda_mean'],\n",
    "    'bounds': [[1, 40_000], [1, 100_000], [10_000, 90_000], [11_000, 100_000],\n",
    "              [0.001,0.1],[0.01,0.03],[5,7.5],[0,20],\n",
    "              [0.01, 2.5], [0.01, 2.5], [0.01, 2.5]]    \n",
    "}\n",
    "\n",
    "columns = ('Variable', 'Parameter', 'Gini')\n",
    "\n",
    "'''\n",
    "This defines model run\n",
    "'''\n",
    "samples = 30\n",
    "max_steps = 10000\n",
    "ofat_size = 12"
   ]
  },
  {
   "cell_type": "code",
   "execution_count": null,
   "id": "ec3946c9",
   "metadata": {
    "scrolled": true
   },
   "outputs": [],
   "source": [
    "'''\n",
    "alpha\n",
    "'''\n",
    "sa_savingslower = run_batch_parallel(problem, 8, ofat_size, samples, columns)\n",
    "run_batch_parallel_plotter(sa_savingslower, 8)\n",
    "#sa_savingslower.to_csv('C:/Users/sebas/Documents/GitHub/ABM/outputs/sa_savingslower.csv')"
   ]
  },
  {
   "cell_type": "code",
   "execution_count": null,
   "id": "8438e46a",
   "metadata": {},
   "outputs": [],
   "source": [
    "'''\n",
    "beta\n",
    "'''\n",
    "sa_savingslower = run_batch_parallel(problem, 9, ofat_size, samples, columns)\n",
    "run_batch_parallel_plotter(sa_savingslower, 9)\n",
    "#sa_savingslower.to_csv('C:/Users/sebas/Documents/GitHub/ABM/outputs/sa_savingslower.csv')"
   ]
  },
  {
   "cell_type": "code",
   "execution_count": null,
   "id": "efb9dc10",
   "metadata": {},
   "outputs": [],
   "source": [
    "'''\n",
    "lambda\n",
    "'''\n",
    "sa_savingslower = run_batch_parallel(problem, 10, ofat_size, samples, columns)\n",
    "run_batch_parallel_plotter(sa_savingslower, 10)\n",
    "#sa_savingslower.to_csv('C:/Users/sebas/Documents/GitHub/ABM/outputs/sa_savingslower.csv')"
   ]
  },
  {
   "cell_type": "code",
   "execution_count": null,
   "id": "670f05c3",
   "metadata": {
    "scrolled": true
   },
   "outputs": [],
   "source": [
    "'''\n",
    "Savings Lower\n",
    "'''\n",
    "sa_savingslower = run_batch_parallel(problem, 0, ofat_size, samples, columns)\n",
    "run_batch_parallel_plotter(sa_savingslower, 0)\n",
    "sa_savingslower.to_csv('C:/Users/sebas/Documents/GitHub/ABM/outputs/sa_savingslower.csv')"
   ]
  },
  {
   "cell_type": "code",
   "execution_count": null,
   "id": "74d1e56b",
   "metadata": {},
   "outputs": [],
   "source": [
    "'''\n",
    "Savings upper\n",
    "'''\n",
    "sa_savingsupper = run_batch_parallel(problem, 1, ofat_size, samples, columns)\n",
    "run_batch_parallel_plotter(sa_savingsupper, 1)\n",
    "sa_savingsupper.to_csv('outputs/sa_savingsupper.csv')"
   ]
  },
  {
   "cell_type": "code",
   "execution_count": null,
   "id": "adb45e85",
   "metadata": {},
   "outputs": [],
   "source": [
    "'''\n",
    "Price lower\n",
    "'''\n",
    "sa_pricelower = run_batch_parallel(problem, 2, ofat_size, samples, columns)\n",
    "run_batch_parallel_plotter(sa_pricelower, 2)\n",
    "sa_pricelower.to_csv('outputs/sa_pricelower.csv')"
   ]
  },
  {
   "cell_type": "code",
   "execution_count": null,
   "id": "0d4e8c42",
   "metadata": {},
   "outputs": [],
   "source": [
    "'''\n",
    "Price upper\n",
    "'''\n",
    "sa_priceupper = run_batch_parallel(problem, 3, ofat_size, samples, columns)\n",
    "run_batch_parallel_plotter(sa_priceupper, 3)\n",
    "sa_priceupper.to_csv('outputs/sa_priceupper.csv')"
   ]
  },
  {
   "cell_type": "code",
   "execution_count": null,
   "id": "0e0147f9",
   "metadata": {},
   "outputs": [],
   "source": [
    "'''\n",
    "payoff_perc_freehold\n",
    "'''\n",
    "sa_payoff = run_batch_parallel(problem, 4, ofat_size, samples, columns)\n",
    "run_batch_parallel_plotter(sa_payoff, 4)\n",
    "sa_payoff.to_csv('outputs/sa_payoff.csv')"
   ]
  },
  {
   "cell_type": "code",
   "execution_count": null,
   "id": "7cd3d48d",
   "metadata": {},
   "outputs": [],
   "source": [
    "'''\n",
    "Inflation\n",
    "'''\n",
    "sa_inflation = run_batch_parallel(problem, 5, ofat_size, samples, columns)\n",
    "run_batch_parallel_plotter(sa_inflation, 5)\n",
    "sa_inflation.to_csv('outputs/sa_inflation.csv')"
   ]
  },
  {
   "cell_type": "code",
   "execution_count": 6,
   "id": "0d9fbbd9",
   "metadata": {},
   "outputs": [
    {
     "data": {
      "image/png": "[encoded data removed]",
      "text/plain": [
       "<Figure size 432x288 with 1 Axes>"
      ]
     },
     "metadata": {
      "needs_background": "light"
     },
     "output_type": "display_data"
    }
   ],
   "source": [
    "'''\n",
    "Chi parameter\n",
    "'''\n",
    "sa_chi = run_batch_parallel(problem, 6, ofat_size, samples, columns)\n",
    "run_batch_parallel_plotter(sa_chi, 6)\n",
    "sa_chi.to_csv('outputs/sa_chi.csv')"
   ]
  },
  {
   "cell_type": "code",
   "execution_count": 8,
   "id": "99250816",
   "metadata": {
    "scrolled": false
   },
   "outputs": [
    {
     "data": {
      "image/png": "[encoded data removed]",
      "text/plain": [
       "<Figure size 432x288 with 1 Axes>"
      ]
     },
     "metadata": {
      "needs_background": "light"
     },
     "output_type": "display_data"
    }
   ],
   "source": [
    "results = run_batch_parallel(problem, 7, ofat_size, samples, columns)\n",
    "run_batch_parallel_plotter(results, 7)"
   ]
  },
  {
   "cell_type": "code",
   "execution_count": null,
   "id": "112c30d4",
   "metadata": {},
   "outputs": [],
   "source": [
    "results.to_csv('outputs/sa_bankincome')"
   ]
  },
  {
   "cell_type": "code",
   "execution_count": 2,
   "id": "c4b747d9",
   "metadata": {},
   "outputs": [],
   "source": [
    "def run_model(steps, kwargs):\n",
    "    model = HousingMarket(**kwargs)\n",
    "    model.run_model(steps)\n",
    "    data = model.datacollector.get_model_vars_dataframe()\n",
    "    return data['Gini'].iloc[-1]"
   ]
  },
  {
   "cell_type": "code",
   "execution_count": 3,
   "id": "86eda1fd",
   "metadata": {},
   "outputs": [],
   "source": [
    "kwargs = {'alpha_mean':20, 'beta_mean':20, 'lmbda_mean':2, 'savings_upper': 0, 'inflation': 0.3, 'payoff_perc_freehold':0.1,\n",
    "         'age_utility_scaling': 0}"
   ]
  },
  {
   "cell_type": "code",
   "execution_count": null,
   "id": "503915b5",
   "metadata": {},
   "outputs": [],
   "source": [
    "results = Parallel(n_jobs= cpu_count())(delayed(run_model)(steps=30000, kwargs = {})\n",
    "                       for i in range(24))\n",
    "\n",
    "np.mean(results)"
   ]
  },
  {
   "cell_type": "code",
   "execution_count": null,
   "id": "cf0a14df",
   "metadata": {},
   "outputs": [],
   "source": [
    "import csv\n",
    "row=['Gini']\n",
    "\n",
    "with open('outputs/banking_experiment_group0.csv', 'w') as f: \n",
    "    write = csv.writer(f) \n",
    "    write.writerows([results])"
   ]
  },
  {
   "cell_type": "code",
   "execution_count": null,
   "id": "062d6b4b",
   "metadata": {
    "scrolled": true
   },
   "outputs": [],
   "source": [
    "import matplotlib.pyplot as plt\n",
    "plt.hist(results)\n",
    "plt.title(\"Standard model\")\n",
    "plt.savefig(\"outputs/banking_hist_group0.png\", dpi=300)"
   ]
  },
  {
   "cell_type": "code",
   "execution_count": null,
   "id": "25d82d51",
   "metadata": {},
   "outputs": [],
   "source": [
    "results1 = []\n",
    "with open('outputs/banking_experiment_group1.csv', newline='') as csvfile:\n",
    "    spamreader = csv.reader(csvfile, delimiter=',', quotechar='|')\n",
    "    for row in spamreader:\n",
    "        results1.append(row)"
   ]
  },
  {
   "cell_type": "code",
   "execution_count": null,
   "id": "6a27feb2",
   "metadata": {},
   "outputs": [],
   "source": [
    "plt.hist(list(np.array(results1[0]).astype(float)))\n",
    "plt.title(\"More mortgage for long-time renters\")\n",
    "plt.savefig(\"outputs/banking_hist_group1.png\", dpi=300)"
   ]
  },
  {
   "cell_type": "markdown",
   "id": "54753511",
   "metadata": {},
   "source": [
    "## Global Sensitivy Analysis"
   ]
  },
  {
   "cell_type": "code",
   "execution_count": null,
   "id": "b2767b26",
   "metadata": {},
   "outputs": [],
   "source": [
    "# YOUR NAME HERE\n",
    "name = \"extra\"\n",
    "assert name in ['Martina', \"Nils\", \"Sebastiaan\", \"Alex\", \"Julius\", \"extra\"], \"please fill in a name of a group member\""
   ]
  },
  {
   "cell_type": "code",
   "execution_count": null,
   "id": "9930a6d1",
   "metadata": {},
   "outputs": [],
   "source": [
    "def run_SOBOL(values, problem, max_steps, counter):\n",
    "    # build kwargs\n",
    "    kwargs = {}\n",
    "    for i, name in enumerate(problem['names']):\n",
    "        kwargs[name] = values[i]\n",
    "    model = HousingMarket(**kwargs)\n",
    "    model.run_model(max_steps)\n",
    "    data = model.datacollector.get_model_vars_dataframe()\n",
    "        \n",
    "    # add run data to the dictionary\n",
    "    kwargs['Run'] = counter\n",
    "    kwargs['Gini'] = data['Gini'].iloc[-1]\n",
    "\n",
    "    return pd.DataFrame(pd.Series(kwargs)).T"
   ]
  },
  {
   "cell_type": "code",
   "execution_count": null,
   "id": "59216cb8",
   "metadata": {},
   "outputs": [],
   "source": [
    "replicates = 30\n",
    "max_steps = 1000\n",
    "distinct_samples = 64"
   ]
  },
  {
   "cell_type": "code",
   "execution_count": null,
   "id": "bf3db616",
   "metadata": {},
   "outputs": [],
   "source": [
    "# read saltelli samples\n",
    "param_values = pd.read_csv(f\"saltelli_samples/param_values_{name}\", index_col=0)"
   ]
  },
  {
   "cell_type": "code",
   "execution_count": null,
   "id": "701f642b",
   "metadata": {},
   "outputs": [],
   "source": [
    "import math\n",
    "problem = {\n",
    "    'num_vars': 8,\n",
    "    'names': ['savings_lower', 'savings_upper', 'price_lower', 'price_upper', \n",
    "              'payoff_perc_freehold', 'inflation', 'chi_parameter', 'bank_income_multiplier'],\n",
    "    'bounds': [[1, 40_000], [50_000, 100_000], [10_000, 90_000], [100_000, 1_000_000],\n",
    "              [0.001,0.0025],[0.01,0.03],[5,7.5],[6,9]]    \n",
    "}\n",
    "assert len(param_values) == math.floor(distinct_samples*(2*problem['num_vars']+2)/5), \"The amount of samples is incorrect\""
   ]
  },
  {
   "cell_type": "code",
   "execution_count": null,
   "id": "b1253064",
   "metadata": {},
   "outputs": [],
   "source": [
    "from tqdm import notebook\n",
    "results = Parallel(n_jobs=cpu_count())(delayed(run_SOBOL)(param_values.iloc[i%len(param_values),:], problem, max_steps, \n",
    "                                                i)\n",
    "                       for i in notebook.tqdm(range(len(param_values)*replicates)))\n",
    "\n",
    "df_global = pd.concat(results)\n",
    "df_global.to_csv(f\"sobol_results/results_{name}\")"
   ]
  },
  {
   "cell_type": "code",
   "execution_count": null,
   "id": "f4db53d0",
   "metadata": {},
   "outputs": [],
   "source": []
  }
 ],
 "metadata": {
  "kernelspec": {
   "display_name": "Python 3 (ipykernel)",
   "language": "python",
   "name": "python3"
  },
  "language_info": {
   "codemirror_mode": {
    "name": "ipython",
    "version": 3
   },
   "file_extension": ".py",
   "mimetype": "text/x-python",
   "name": "python",
   "nbconvert_exporter": "python",
   "pygments_lexer": "ipython3",
   "version": "3.9.2"
  }
 },
 "nbformat": 4,
 "nbformat_minor": 5
}
