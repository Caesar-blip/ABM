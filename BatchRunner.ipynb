{
 "cells": [
  {
   "cell_type": "code",
   "execution_count": 1,
   "id": "6881756c",
   "metadata": {},
   "outputs": [],
   "source": [
    "'''\n",
    "This notebook implements a batch run for OFAT analysis\n",
    "Packages\n",
    "'''\n",
    "from model import *\n",
    "import csv\n",
    "from mesa.batchrunner import BatchRunner\n",
    "import pandas as pd\n",
    "import numpy as np\n",
    "import tqdm as tqdm\n",
    "import seaborn as sns\n",
    "import matplotlib.pyplot as plt\n",
    "import time\n",
    "from SALib.sample import saltelli\n",
    "from SALib.analyze import sobol\n",
    "from itertools import combinations\n",
    "from joblib import Parallel, delayed, cpu_count"
   ]
  },
  {
   "cell_type": "code",
   "execution_count": 2,
   "id": "c4b747d9",
   "metadata": {},
   "outputs": [],
   "source": [
    "def run_model(steps, kwargs):\n",
    "    model = HousingMarket(**kwargs)\n",
    "    model.run_model(steps)\n",
    "    data = model.datacollector.get_model_vars_dataframe()\n",
    "    return data['Mean House Price'][-1]"
   ]
  },
  {
   "cell_type": "code",
   "execution_count": 3,
   "id": "86eda1fd",
   "metadata": {},
   "outputs": [],
   "source": [
    "kwargs = {}"
   ]
  },
  {
   "cell_type": "code",
   "execution_count": 4,
   "id": "503915b5",
   "metadata": {},
   "outputs": [],
   "source": [
    "results = Parallel(n_jobs= 10)(delayed(run_model)(steps=10000, kwargs = {})\n",
    "                       for i in range(10))"
   ]
  },
  {
   "cell_type": "code",
   "execution_count": 13,
   "id": "cf0a14df",
   "metadata": {},
   "outputs": [],
   "source": [
    "import csv\n",
    "\n",
    "with open('outputs/percentage_free_houses150.csv', 'w') as f: \n",
    "    write = csv.writer(f) \n",
    "    write.writerows([results])"
   ]
  },
  {
   "cell_type": "code",
   "execution_count": null,
   "id": "062d6b4b",
   "metadata": {
    "scrolled": true
   },
   "outputs": [],
   "source": [
    "import matplotlib.pyplot as plt\n",
    "plt.hist(results)\n",
    "plt.title(\"Standard model\")\n",
    "plt.savefig(\"outputs/banking_hist_group0.png\", dpi=300)"
   ]
  },
  {
   "cell_type": "code",
   "execution_count": null,
   "id": "25d82d51",
   "metadata": {},
   "outputs": [],
   "source": [
    "results1 = []\n",
    "with open('outputs/banking_experiment_group1.csv', newline='') as csvfile:\n",
    "    spamreader = csv.reader(csvfile, delimiter=',', quotechar='|')\n",
    "    for row in spamreader:\n",
    "        results1.append(row)"
   ]
  },
  {
   "cell_type": "code",
   "execution_count": null,
   "id": "6a27feb2",
   "metadata": {},
   "outputs": [],
   "source": [
    "plt.hist(list(np.array(results1[0]).astype(float)))\n",
    "plt.title(\"More mortgage for long-time renters\")\n",
    "plt.savefig(\"outputs/banking_hist_group1.png\", dpi=300)"
   ]
  },
  {
   "cell_type": "markdown",
   "id": "54753511",
   "metadata": {},
   "source": [
    "## Global Sensitivy Analysis"
   ]
  },
  {
   "cell_type": "code",
   "execution_count": null,
   "id": "b2767b26",
   "metadata": {},
   "outputs": [],
   "source": [
    "# YOUR NAME HERE\n",
    "name = \"Julius\"\n",
    "assert name in ['Martina', \"Nils\", \"Sebastiaan\", \"Alex\", \"Julius\", \"extra\"], \"please fill in a name of a group member\""
   ]
  },
  {
   "cell_type": "code",
   "execution_count": null,
   "id": "9930a6d1",
   "metadata": {},
   "outputs": [],
   "source": [
    "def run_SOBOL(values, problem, max_steps, counter):\n",
    "    # build kwargs\n",
    "    kwargs = {}\n",
    "    for i, name in enumerate(problem['names']):\n",
    "        kwargs[name] = values[i]\n",
    "    model = HousingMarket(**kwargs)\n",
    "    model.run_model(max_steps)\n",
    "    data = model.datacollector.get_model_vars_dataframe()\n",
    "        \n",
    "    # add run data to the dictionary\n",
    "    kwargs['Run'] = counter\n",
    "    kwargs['Gini'] = data['Gini'].iloc[-1]\n",
    "\n",
    "    return pd.DataFrame(pd.Series(kwargs)).T"
   ]
  },
  {
   "cell_type": "code",
   "execution_count": null,
   "id": "59216cb8",
   "metadata": {},
   "outputs": [],
   "source": [
    "replicates = 30\n",
    "max_steps = 1000\n",
    "distinct_samples = 64"
   ]
  },
  {
   "cell_type": "code",
   "execution_count": null,
   "id": "bf3db616",
   "metadata": {},
   "outputs": [],
   "source": [
    "# read saltelli samples\n",
    "param_values = pd.read_csv(f\"saltelli_samples/param_values_{name}\", index_col=0)"
   ]
  },
  {
   "cell_type": "code",
   "execution_count": null,
   "id": "701f642b",
   "metadata": {},
   "outputs": [],
   "source": [
    "import math\n",
    "problem = {\n",
    "    'num_vars': 8,\n",
    "    'names': ['savings_lower', 'savings_upper', 'price_lower', 'price_upper', \n",
    "              'payoff_perc_freehold', 'inflation', 'chi_parameter', 'bank_income_multiplier'],\n",
    "    'bounds': [[1, 40_000], [50_000, 100_000], [10_000, 90_000], [100_000, 1_000_000],\n",
    "              [0.001,0.0025],[0.01,0.03],[5,7.5],[6,9]]    \n",
    "}\n",
    "assert len(param_values) == math.floor(distinct_samples*(2*problem['num_vars']+2)/5), \"The amount of samples is incorrect\""
   ]
  },
  {
   "cell_type": "code",
   "execution_count": null,
   "id": "b1253064",
   "metadata": {},
   "outputs": [],
   "source": [
    "from tqdm import notebook\n",
    "results = Parallel(n_jobs=cpu_count())(delayed(run_SOBOL)(param_values.iloc[i%len(param_values),:], problem, max_steps, \n",
    "                                                i)\n",
    "                       for i in notebook.tqdm(range(len(param_values)*replicates)))\n",
    "\n",
    "df_global = pd.concat(results)\n",
    "df_global.to_csv(f\"sobol_results/results_{name}\")"
   ]
  }
 ],
 "metadata": {
  "kernelspec": {
   "display_name": "Python 3 (ipykernel)",
   "language": "python",
   "name": "python3"
  },
  "language_info": {
   "codemirror_mode": {
    "name": "ipython",
    "version": 3
   },
   "file_extension": ".py",
   "mimetype": "text/x-python",
   "name": "python",
   "nbconvert_exporter": "python",
   "pygments_lexer": "ipython3",
   "version": "3.9.2"
  }
 },
 "nbformat": 4,
 "nbformat_minor": 5
}
