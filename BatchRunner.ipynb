{
 "cells": [
  {
   "cell_type": "code",
   "execution_count": null,
   "id": "6881756c",
   "metadata": {},
   "outputs": [],
   "source": [
    "'''\n",
    "This notebook implements a batch run for OFAT analysis\n",
    "Packages\n",
    "'''\n",
    "from model import *\n",
    "import csv\n",
    "from mesa.batchrunner import BatchRunner\n",
    "import pandas as pd\n",
    "import numpy as np\n",
    "import tqdm as tqdm\n",
    "import seaborn as sns\n",
    "import matplotlib.pyplot as plt\n",
    "import time\n",
    "from SALib.sample import saltelli\n",
    "from SALib.analyze import sobol\n",
    "from itertools import combinations\n",
    "from joblib import Parallel, delayed"
   ]
  },
  {
   "cell_type": "code",
   "execution_count": null,
   "id": "9ac71245",
   "metadata": {},
   "outputs": [],
   "source": [
    "'''\n",
    "Initial Conditions as given in notebook\n",
    "'''\n",
    "initial_houses = 20\n",
    "initial_households = 30\n",
    "rental_cost = 1000\n",
    "savings_lower = 0\n",
    "savings_upper = 50_000\n",
    "price_lower = 10_000\n",
    "price_upper = 100_000\n",
    "\n",
    "'''\n",
    "This defines model run\n",
    "'''\n",
    "samples = 10\n",
    "max_steps = 2\n",
    "ofat_size = 5"
   ]
  },
  {
   "cell_type": "code",
   "execution_count": null,
   "id": "e59fc397",
   "metadata": {},
   "outputs": [],
   "source": [
    "'''\n",
    "This defines the bounds of for the ofat analysis\n",
    "'''\n",
    "problem = {\n",
    "    'names': ['savings_lower', 'savings_upper', 'price_lower', 'price_upper', 'rental_cost'],\n",
    "    'bounds': [[1, 40_000], [1, 100_000], [10_000, 90_000], [11_000, 100_000], [1000, 20_000]]    \n",
    "}"
   ]
  },
  {
   "cell_type": "code",
   "execution_count": null,
   "id": "f984bdab",
   "metadata": {},
   "outputs": [],
   "source": [
    "def run_batch(problem, i, ofat_size):\n",
    "    parameter = problem['names'][i]\n",
    "    parameter_name = parameter\n",
    "    print(parameter)\n",
    "    variable_values = np.linspace(*problem['bounds'][i], ofat_size)\n",
    "    df_experiment = pd.DataFrame(columns = ('Variable', 'Parameter', 'Gini'))\n",
    "    \n",
    "    for j in variable_values:\n",
    "        '''\n",
    "        Iterate over bounds of paramter\n",
    "        '''\n",
    "                    \n",
    "        for k in range(samples):\n",
    "            '''\n",
    "            Repeat trial with certain parameter k times to apply clt\n",
    "            '''            \n",
    "            model = HousingMarket(parameter := int(j))\n",
    "            model.run_model(max_steps)\n",
    "            data = model.datacollector.get_model_vars_dataframe()\n",
    "            dic = {'Variable': parameter_name, 'Parameter': j, 'Gini': data['Gini'].iloc[-1]}\n",
    "            df_experiment = pd.concat([df_experiment, pd.DataFrame(pd.Series(dic)).T])\n",
    "        #print(df_experiment)\n",
    "    return df_experiment"
   ]
  },
  {
   "cell_type": "code",
   "execution_count": null,
   "id": "4c5a8523",
   "metadata": {},
   "outputs": [],
   "source": [
    "results = Parallel(n_jobs=8)(delayed(run_batch)(problem, i, ofat_size)\n",
    "                             for i in range(len(problem['names'])))"
   ]
  },
  {
   "cell_type": "code",
   "execution_count": null,
   "id": "91fcd582",
   "metadata": {
    "scrolled": true
   },
   "outputs": [],
   "source": [
    "'''\n",
    "This defines the batch run\n",
    "'''\n",
    "df_experiment = pd.DataFrame(columns = ('Variable', 'Parameter', 'Gini'))\n",
    "\n",
    "for i, var in tqdm.tqdm(enumerate(problem['names'])):\n",
    "    '''\n",
    "    Iterate over parameters as defined in problem\n",
    "    '''\n",
    "    parameter = var\n",
    "    variable_values = np.linspace(*problem['bounds'][i], ofat_size)\n",
    "    \n",
    "    for j in variable_values:\n",
    "        '''\n",
    "        Iterate over bounds of paramter\n",
    "        '''\n",
    "                    \n",
    "        for k in range(samples):\n",
    "            '''\n",
    "            Repeat trial with certain parameter k times to apply clt\n",
    "            '''            \n",
    "            model = HousingMarket(parameter := int(j))\n",
    "            model.run_model(max_steps)\n",
    "            data = model.datacollector.get_model_vars_dataframe()\n",
    "            \n",
    "            dic = {'Variable': var, 'Parameter': j, 'Gini': data['Gini'].iloc[-1]}\n",
    "            #df_experiment = df_experiment.append(dict, ignore_index=True)\n",
    "            df_experiment = pd.concat([df_experiment, pd.DataFrame(pd.Series(dic)).T])\n",
    "'''\n",
    "Save result to Panda's dataframe\n",
    "'''\n",
    "            \n",
    "experiment_raw = df_experiment\n",
    "experiment_raw = df_experiment.set_index(['Variable', 'Parameter'])"
   ]
  },
  {
   "cell_type": "code",
   "execution_count": null,
   "id": "271c5e32",
   "metadata": {},
   "outputs": [],
   "source": [
    "experiment_raw"
   ]
  },
  {
   "cell_type": "code",
   "execution_count": null,
   "id": "658cc02d",
   "metadata": {},
   "outputs": [],
   "source": [
    "y = []\n",
    "err = []\n",
    "\n",
    "for i in len(ofat_size):\n",
    "    y.append(results[0].loc[Parameter == i][\"Gini\"].mean())"
   ]
  },
  {
   "cell_type": "code",
   "execution_count": null,
   "id": "b3d4b979",
   "metadata": {},
   "outputs": [],
   "source": [
    "fig, axs = plt.subplots(len(problem['names']), figsize = (20,40))\n",
    "\n",
    "for i, var in enumerate(problem['names']):\n",
    "    \n",
    "    y = []\n",
    "    err = []\n",
    "    \n",
    "    parameter = var\n",
    "    x = np.linspace(*problem['bounds'][i], ofat_size)\n",
    "\n",
    "    \n",
    "    for j in x:\n",
    "        y.append(results[int(j)]['Gini'].mean())\n",
    "        err.append(1.96 * experiment_raw.loc[var, j].std()[0] / np.sqrt(samples))\n",
    "    \n",
    "    axs[i].plot(x, y, c = 'k')\n",
    "    axs[i].fill_between(x, np.array(y) - np.array(err), np.array(y) + np.array(err)) \n",
    "    axs[i].set_ylabel(\"Gini\")\n",
    "    axs[i].set_xlabel(var)"
   ]
  },
  {
   "cell_type": "code",
   "execution_count": null,
   "id": "2c51f6d2",
   "metadata": {
    "scrolled": false
   },
   "outputs": [],
   "source": [
    "# Data\n",
    "fig, axs = plt.subplots(len(problem['names']), figsize = (20,40))\n",
    "\n",
    "for i, var in enumerate(problem['names']):\n",
    "    \n",
    "    y = []\n",
    "    err = []\n",
    "    \n",
    "    parameter = var\n",
    "    x = np.linspace(*problem['bounds'][i], ofat_size)\n",
    "\n",
    "    \n",
    "    for j in x:\n",
    "        y.append(experiment_raw.loc[var, j].mean()[0])\n",
    "        err.append(1.96 * experiment_raw.loc[var, j].std()[0] / np.sqrt(samples))\n",
    "    \n",
    "    axs[i].plot(x, y, c = 'k')\n",
    "    axs[i].fill_between(x, np.array(y) - np.array(err), np.array(y) + np.array(err)) \n",
    "    axs[i].set_ylabel(\"Gini\")\n",
    "    axs[i].set_xlabel(var)"
   ]
  },
  {
   "cell_type": "markdown",
   "id": "54753511",
   "metadata": {},
   "source": [
    "## Global Sensitivy Analysis"
   ]
  },
  {
   "cell_type": "code",
   "execution_count": null,
   "id": "9cf97d73",
   "metadata": {},
   "outputs": [],
   "source": [
    "'''\n",
    "This section runs Sobol\n",
    "'''\n",
    "\n",
    "\n",
    "problem = {\n",
    "    'num_vars': 3,\n",
    "    'names': ['price_lower', 'price_upper', 'rental_cost'],\n",
    "    'bounds': [[10_000, 20_000], [21_000, 100_000], [1000, 20_000]]    \n",
    "}"
   ]
  },
  {
   "cell_type": "code",
   "execution_count": null,
   "id": "fc6ccb0b",
   "metadata": {},
   "outputs": [],
   "source": [
    "replicates = 10\n",
    "max_steps = 50\n",
    "distinct_samples = 10"
   ]
  },
  {
   "cell_type": "code",
   "execution_count": null,
   "id": "09302713",
   "metadata": {
    "scrolled": true
   },
   "outputs": [],
   "source": [
    "'''\n",
    "Generate Saltetlli sample\n",
    "'''\n",
    "param_values = saltelli.sample(problem, distinct_samples)"
   ]
  },
  {
   "cell_type": "code",
   "execution_count": null,
   "id": "e2e21aec",
   "metadata": {},
   "outputs": [],
   "source": [
    "counter = 0\n",
    "df_global = pd.DataFrame(columns = ('Price_lower', 'Price_higher', 'Rental_cost', 'Run', 'Gini'))\n",
    "\n",
    "for i in range(replicates):\n",
    "    for vals in param_values:       \n",
    "        model = HousingMarket(price_lower = int(vals[0]), price_upper = int(vals[1]), rental_cost = int(vals[2]))\n",
    "        model.run_model(max_steps)\n",
    "        data = model.datacollector.get_model_vars_dataframe()\n",
    "        dict = {'Price_lower': vals[0], 'Price_higher': vals[1],\n",
    "                'Rental_cost': vals[2], 'Run': counter, 'Gini': data['Gini'].iloc[-1]}\n",
    "        df_global = df_global.append(dict, ignore_index=True)\n",
    "        counter += 1"
   ]
  },
  {
   "cell_type": "code",
   "execution_count": null,
   "id": "b1253064",
   "metadata": {},
   "outputs": [],
   "source": [
    "df_global"
   ]
  },
  {
   "cell_type": "code",
   "execution_count": null,
   "id": "6d31d809",
   "metadata": {},
   "outputs": [],
   "source": [
    "sobal_gini = sobol.analyze(problem, df_global['Gini'].values, print_to_console = True )"
   ]
  },
  {
   "cell_type": "code",
   "execution_count": null,
   "id": "7c3758b1",
   "metadata": {},
   "outputs": [],
   "source": [
    "'''\n",
    "Code from notebook\n",
    "'''\n",
    "\n",
    "def plot_index(s, params, i, title=''):\n",
    "    \"\"\"\n",
    "    Creates a plot for Sobol sensitivity analysis that shows the contributions\n",
    "    of each parameter to the global sensitivity.\n",
    "\n",
    "    Args:\n",
    "        s (dict): dictionary {'S#': dict, 'S#_conf': dict} of dicts that hold\n",
    "            the values for a set of parameters\n",
    "        params (list): the parameters taken from s\n",
    "        i (str): string that indicates what order the sensitivity is.\n",
    "        title (str): title for the plot\n",
    "    \"\"\"\n",
    "\n",
    "    if i == '2':\n",
    "        p = len(params)\n",
    "        params = list(combinations(params, 2))\n",
    "        indices = s['S' + i].reshape((p ** 2))\n",
    "        indices = indices[~np.isnan(indices)]\n",
    "        errors = s['S' + i + '_conf'].reshape((p ** 2))\n",
    "        errors = errors[~np.isnan(errors)]\n",
    "    else:\n",
    "        indices = s['S' + i]\n",
    "        errors = s['S' + i + '_conf']\n",
    "        plt.figure()\n",
    "\n",
    "    l = len(indices)\n",
    "\n",
    "    plt.title(title)\n",
    "    plt.ylim([-0.2, len(indices) - 1 + 0.2])\n",
    "    plt.yticks(range(l), params)\n",
    "    plt.errorbar(indices, range(l), xerr=errors, linestyle='None', marker='o')\n",
    "    plt.axvline(0, c='k')"
   ]
  },
  {
   "cell_type": "code",
   "execution_count": null,
   "id": "7de41383",
   "metadata": {},
   "outputs": [],
   "source": [
    "problem['names']"
   ]
  },
  {
   "cell_type": "code",
   "execution_count": null,
   "id": "25022b7b",
   "metadata": {},
   "outputs": [],
   "source": [
    "# First order\n",
    "plot_index(sobal_gini, problem['names'], '1', 'First order sensitivity')\n",
    "plt.show()\n",
    "\n",
    "# Second order\n",
    "plot_index(sobal_gini, problem['names'], '2', 'Second order sensitivity')\n",
    "plt.show()\n",
    "\n",
    "# Total order\n",
    "plot_index(sobal_gini, problem['names'], 'T', 'Total order sensitivity')\n",
    "plt.show()"
   ]
  },
  {
   "cell_type": "code",
   "execution_count": null,
   "id": "fc364bdc",
   "metadata": {},
   "outputs": [],
   "source": []
  }
 ],
 "metadata": {
  "kernelspec": {
   "display_name": "Python 3 (ipykernel)",
   "language": "python",
   "name": "python3"
  },
  "language_info": {
   "codemirror_mode": {
    "name": "ipython",
    "version": 3
   },
   "file_extension": ".py",
   "mimetype": "text/x-python",
   "name": "python",
   "nbconvert_exporter": "python",
   "pygments_lexer": "ipython3",
   "version": "3.9.2"
  }
 },
 "nbformat": 4,
 "nbformat_minor": 5
}
